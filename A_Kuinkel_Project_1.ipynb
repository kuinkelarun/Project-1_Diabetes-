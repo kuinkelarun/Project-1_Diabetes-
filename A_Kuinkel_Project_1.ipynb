{
 "cells": [
  {
   "cell_type": "markdown",
   "metadata": {},
   "source": [
    "# Diabetes Data Set"
   ]
  },
  {
   "cell_type": "markdown",
   "metadata": {},
   "source": [
    "### Introduction: \n",
    "\n",
    "The data set I have today is from UCI repository, \"Pima Indian diabetes\", which has 768 records, 8 attributes, 2 classes, 268 positive resultd for a diabetes test and 500 negative results. All patients were female at least 21 years old of Pima Indian heritage. Based on different features, the goal is to be able to predict whether a person has diabetes or not. \n",
    "\n",
    "In this project I will analyze the data from initial statistical step to building different modles and testing them. First, I will try to get the general statistical summary, based on the data that we have without cleansing the data. I will then do a comprehensive EDA, create logistic regression (logit) and return a classification vector. This project will also include creating my own logistic regression model, using SMOTE to fix the imbalanced data, create logistic regression with new SMOTE data. Resetting performance matrix, crating confusion matrix as well as a ROC curve, getting chi-square and p-value and accessing data as part of feature engineering, creating model using SVM or KNN and compare them with logistic regression model are also part of this project. All of these activities in most part will be performed in the order they are mentioned here. And at the end, there will be a general summary of the project. At the end of the project, there will be a reference page, which will have links and sources for all the citations and helps taken to complete this project."
   ]
  },
  {
   "cell_type": "markdown",
   "metadata": {},
   "source": [
    "### Uploading data set in pandas\n",
    "\n",
    "I have uploaded the given data set into GitHub and then loaded that data into pandas for my analytics. The given data set has not been changed in any way before uploading. "
   ]
  },
  {
   "cell_type": "code",
   "execution_count": 307,
   "metadata": {},
   "outputs": [
    {
     "data": {
      "text/html": [
       "<div>\n",
       "<style scoped>\n",
       "    .dataframe tbody tr th:only-of-type {\n",
       "        vertical-align: middle;\n",
       "    }\n",
       "\n",
       "    .dataframe tbody tr th {\n",
       "        vertical-align: top;\n",
       "    }\n",
       "\n",
       "    .dataframe thead th {\n",
       "        text-align: right;\n",
       "    }\n",
       "</style>\n",
       "<table border=\"1\" class=\"dataframe\">\n",
       "  <thead>\n",
       "    <tr style=\"text-align: right;\">\n",
       "      <th></th>\n",
       "      <th>0</th>\n",
       "      <th>1</th>\n",
       "      <th>2</th>\n",
       "      <th>3</th>\n",
       "      <th>4</th>\n",
       "      <th>5</th>\n",
       "      <th>6</th>\n",
       "      <th>7</th>\n",
       "      <th>8</th>\n",
       "    </tr>\n",
       "  </thead>\n",
       "  <tbody>\n",
       "    <tr>\n",
       "      <th>0</th>\n",
       "      <td>Pregnancies</td>\n",
       "      <td>Glucose</td>\n",
       "      <td>BloodPressure</td>\n",
       "      <td>SkinThickness</td>\n",
       "      <td>Insulin</td>\n",
       "      <td>BMI</td>\n",
       "      <td>DiabetesPedigreeFunction</td>\n",
       "      <td>Age</td>\n",
       "      <td>Outcome</td>\n",
       "    </tr>\n",
       "    <tr>\n",
       "      <th>1</th>\n",
       "      <td>6</td>\n",
       "      <td>148</td>\n",
       "      <td>72</td>\n",
       "      <td>35</td>\n",
       "      <td>0</td>\n",
       "      <td>33.6</td>\n",
       "      <td>0.627</td>\n",
       "      <td>50</td>\n",
       "      <td>1</td>\n",
       "    </tr>\n",
       "    <tr>\n",
       "      <th>2</th>\n",
       "      <td>1</td>\n",
       "      <td>85</td>\n",
       "      <td>66</td>\n",
       "      <td>29</td>\n",
       "      <td>0</td>\n",
       "      <td>26.6</td>\n",
       "      <td>0.351</td>\n",
       "      <td>31</td>\n",
       "      <td>0</td>\n",
       "    </tr>\n",
       "    <tr>\n",
       "      <th>3</th>\n",
       "      <td>8</td>\n",
       "      <td>183</td>\n",
       "      <td>64</td>\n",
       "      <td>0</td>\n",
       "      <td>0</td>\n",
       "      <td>23.3</td>\n",
       "      <td>0.672</td>\n",
       "      <td>32</td>\n",
       "      <td>1</td>\n",
       "    </tr>\n",
       "    <tr>\n",
       "      <th>4</th>\n",
       "      <td>1</td>\n",
       "      <td>89</td>\n",
       "      <td>66</td>\n",
       "      <td>23</td>\n",
       "      <td>94</td>\n",
       "      <td>28.1</td>\n",
       "      <td>0.167</td>\n",
       "      <td>21</td>\n",
       "      <td>0</td>\n",
       "    </tr>\n",
       "  </tbody>\n",
       "</table>\n",
       "</div>"
      ],
      "text/plain": [
       "             0        1              2              3        4     5  \\\n",
       "0  Pregnancies  Glucose  BloodPressure  SkinThickness  Insulin   BMI   \n",
       "1            6      148             72             35        0  33.6   \n",
       "2            1       85             66             29        0  26.6   \n",
       "3            8      183             64              0        0  23.3   \n",
       "4            1       89             66             23       94  28.1   \n",
       "\n",
       "                          6    7        8  \n",
       "0  DiabetesPedigreeFunction  Age  Outcome  \n",
       "1                     0.627   50        1  \n",
       "2                     0.351   31        0  \n",
       "3                     0.672   32        1  \n",
       "4                     0.167   21        0  "
      ]
     },
     "execution_count": 307,
     "metadata": {},
     "output_type": "execute_result"
    }
   ],
   "source": [
    "# import libraries\n",
    "\n",
    "import pandas as pd\n",
    "import numpy as np\n",
    "import seaborn as sns\n",
    "import matplotlib.pyplot as plt\n",
    "\n",
    "import warnings\n",
    "warnings.simplefilter(action='ignore', category=FutureWarning)\n",
    "\n",
    "from sklearn.metrics import accuracy_score,confusion_matrix, classification_report,roc_auc_score\n",
    "from scipy.stats import zscore\n",
    "from sklearn.model_selection import train_test_split\n",
    "from sklearn.compose import ColumnTransformer\n",
    "from sklearn.experimental import enable_iterative_imputer\n",
    "from sklearn.impute import IterativeImputer\n",
    "from sklearn.impute import SimpleImputer\n",
    "from sklearn.model_selection import train_test_split\n",
    "from sklearn.linear_model import BayesianRidge\n",
    "from sklearn.tree import DecisionTreeRegressor\n",
    "from sklearn.ensemble import ExtraTreesRegressor\n",
    "from sklearn.neighbors import KNeighborsRegressor\n",
    "from sklearn.preprocessing import StandardScaler\n",
    "from sklearn import (model_selection,preprocessing)\n",
    "from patsy import dmatrices\n",
    "from sklearn.linear_model import LogisticRegression\n",
    "from sklearn import metrics\n",
    "from sklearn import datasets\n",
    "\n",
    "# uploading data to pandas\n",
    "\n",
    "original_df = pd.read_csv('https://raw.githubusercontent.com/kuinkelarun/Project-1_Diabetes-/main/diabetes.csv', header=None)\n",
    "\n",
    "#prints few lines of the sample table including the deader \n",
    "\n",
    "original_df.head()"
   ]
  },
  {
   "cell_type": "markdown",
   "metadata": {},
   "source": [
    "### Assigning column names\n",
    "\n",
    "The column names appear to be on  the first row of the data set. In this step, I am dropping the first row where the column names appear. And, assign column name as columns for the data set."
   ]
  },
  {
   "cell_type": "code",
   "execution_count": 3,
   "metadata": {},
   "outputs": [
    {
     "data": {
      "text/html": [
       "<div>\n",
       "<style scoped>\n",
       "    .dataframe tbody tr th:only-of-type {\n",
       "        vertical-align: middle;\n",
       "    }\n",
       "\n",
       "    .dataframe tbody tr th {\n",
       "        vertical-align: top;\n",
       "    }\n",
       "\n",
       "    .dataframe thead th {\n",
       "        text-align: right;\n",
       "    }\n",
       "</style>\n",
       "<table border=\"1\" class=\"dataframe\">\n",
       "  <thead>\n",
       "    <tr style=\"text-align: right;\">\n",
       "      <th></th>\n",
       "      <th>Pregnancies</th>\n",
       "      <th>Glucose</th>\n",
       "      <th>BloodPressure</th>\n",
       "      <th>SkinThickness</th>\n",
       "      <th>Insulin</th>\n",
       "      <th>BMI</th>\n",
       "      <th>DiabetesPedigreeFunction</th>\n",
       "      <th>Age</th>\n",
       "      <th>Outcome</th>\n",
       "    </tr>\n",
       "  </thead>\n",
       "  <tbody>\n",
       "    <tr>\n",
       "      <th>1</th>\n",
       "      <td>6</td>\n",
       "      <td>148</td>\n",
       "      <td>72</td>\n",
       "      <td>35</td>\n",
       "      <td>0</td>\n",
       "      <td>33.6</td>\n",
       "      <td>0.627</td>\n",
       "      <td>50</td>\n",
       "      <td>1</td>\n",
       "    </tr>\n",
       "    <tr>\n",
       "      <th>2</th>\n",
       "      <td>1</td>\n",
       "      <td>85</td>\n",
       "      <td>66</td>\n",
       "      <td>29</td>\n",
       "      <td>0</td>\n",
       "      <td>26.6</td>\n",
       "      <td>0.351</td>\n",
       "      <td>31</td>\n",
       "      <td>0</td>\n",
       "    </tr>\n",
       "    <tr>\n",
       "      <th>3</th>\n",
       "      <td>8</td>\n",
       "      <td>183</td>\n",
       "      <td>64</td>\n",
       "      <td>0</td>\n",
       "      <td>0</td>\n",
       "      <td>23.3</td>\n",
       "      <td>0.672</td>\n",
       "      <td>32</td>\n",
       "      <td>1</td>\n",
       "    </tr>\n",
       "    <tr>\n",
       "      <th>4</th>\n",
       "      <td>1</td>\n",
       "      <td>89</td>\n",
       "      <td>66</td>\n",
       "      <td>23</td>\n",
       "      <td>94</td>\n",
       "      <td>28.1</td>\n",
       "      <td>0.167</td>\n",
       "      <td>21</td>\n",
       "      <td>0</td>\n",
       "    </tr>\n",
       "    <tr>\n",
       "      <th>5</th>\n",
       "      <td>0</td>\n",
       "      <td>137</td>\n",
       "      <td>40</td>\n",
       "      <td>35</td>\n",
       "      <td>168</td>\n",
       "      <td>43.1</td>\n",
       "      <td>2.288</td>\n",
       "      <td>33</td>\n",
       "      <td>1</td>\n",
       "    </tr>\n",
       "  </tbody>\n",
       "</table>\n",
       "</div>"
      ],
      "text/plain": [
       "  Pregnancies Glucose BloodPressure SkinThickness Insulin   BMI  \\\n",
       "1           6     148            72            35       0  33.6   \n",
       "2           1      85            66            29       0  26.6   \n",
       "3           8     183            64             0       0  23.3   \n",
       "4           1      89            66            23      94  28.1   \n",
       "5           0     137            40            35     168  43.1   \n",
       "\n",
       "  DiabetesPedigreeFunction Age Outcome  \n",
       "1                    0.627  50       1  \n",
       "2                    0.351  31       0  \n",
       "3                    0.672  32       1  \n",
       "4                    0.167  21       0  \n",
       "5                    2.288  33       1  "
      ]
     },
     "execution_count": 3,
     "metadata": {},
     "output_type": "execute_result"
    }
   ],
   "source": [
    "# make a copy of original data\n",
    "df = original_df.copy()\n",
    "\n",
    "# drop first row\n",
    "df = df.drop(0)\n",
    "\n",
    "# assign meaningful column names on the column section\n",
    "df.columns = ['Pregnancies', 'Glucose', 'BloodPressure', 'SkinThickness', 'Insulin', 'BMI', 'DiabetesPedigreeFunction', 'Age', 'Outcome']\n",
    "\n",
    "#sample output of data\n",
    "df.head()\n",
    "\n"
   ]
  },
  {
   "cell_type": "markdown",
   "metadata": {},
   "source": [
    "### Generate Summary\n",
    "\n",
    "In order to find out preliminary statistics of the data set, general statistics using descrie() function is generated. "
   ]
  },
  {
   "cell_type": "code",
   "execution_count": 4,
   "metadata": {},
   "outputs": [
    {
     "data": {
      "text/html": [
       "<div>\n",
       "<style scoped>\n",
       "    .dataframe tbody tr th:only-of-type {\n",
       "        vertical-align: middle;\n",
       "    }\n",
       "\n",
       "    .dataframe tbody tr th {\n",
       "        vertical-align: top;\n",
       "    }\n",
       "\n",
       "    .dataframe thead th {\n",
       "        text-align: right;\n",
       "    }\n",
       "</style>\n",
       "<table border=\"1\" class=\"dataframe\">\n",
       "  <thead>\n",
       "    <tr style=\"text-align: right;\">\n",
       "      <th></th>\n",
       "      <th>Pregnancies</th>\n",
       "      <th>Glucose</th>\n",
       "      <th>BloodPressure</th>\n",
       "      <th>SkinThickness</th>\n",
       "      <th>Insulin</th>\n",
       "      <th>BMI</th>\n",
       "      <th>DiabetesPedigreeFunction</th>\n",
       "      <th>Age</th>\n",
       "      <th>Outcome</th>\n",
       "    </tr>\n",
       "  </thead>\n",
       "  <tbody>\n",
       "    <tr>\n",
       "      <th>count</th>\n",
       "      <td>768</td>\n",
       "      <td>768</td>\n",
       "      <td>768</td>\n",
       "      <td>768</td>\n",
       "      <td>768</td>\n",
       "      <td>768</td>\n",
       "      <td>768</td>\n",
       "      <td>768</td>\n",
       "      <td>768</td>\n",
       "    </tr>\n",
       "    <tr>\n",
       "      <th>unique</th>\n",
       "      <td>17</td>\n",
       "      <td>136</td>\n",
       "      <td>47</td>\n",
       "      <td>51</td>\n",
       "      <td>186</td>\n",
       "      <td>248</td>\n",
       "      <td>517</td>\n",
       "      <td>52</td>\n",
       "      <td>2</td>\n",
       "    </tr>\n",
       "    <tr>\n",
       "      <th>top</th>\n",
       "      <td>1</td>\n",
       "      <td>99</td>\n",
       "      <td>70</td>\n",
       "      <td>0</td>\n",
       "      <td>0</td>\n",
       "      <td>32</td>\n",
       "      <td>0.258</td>\n",
       "      <td>22</td>\n",
       "      <td>0</td>\n",
       "    </tr>\n",
       "    <tr>\n",
       "      <th>freq</th>\n",
       "      <td>135</td>\n",
       "      <td>17</td>\n",
       "      <td>57</td>\n",
       "      <td>227</td>\n",
       "      <td>374</td>\n",
       "      <td>13</td>\n",
       "      <td>6</td>\n",
       "      <td>72</td>\n",
       "      <td>500</td>\n",
       "    </tr>\n",
       "  </tbody>\n",
       "</table>\n",
       "</div>"
      ],
      "text/plain": [
       "       Pregnancies Glucose BloodPressure SkinThickness Insulin  BMI  \\\n",
       "count          768     768           768           768     768  768   \n",
       "unique          17     136            47            51     186  248   \n",
       "top              1      99            70             0       0   32   \n",
       "freq           135      17            57           227     374   13   \n",
       "\n",
       "       DiabetesPedigreeFunction  Age Outcome  \n",
       "count                       768  768     768  \n",
       "unique                      517   52       2  \n",
       "top                       0.258   22       0  \n",
       "freq                          6   72     500  "
      ]
     },
     "execution_count": 4,
     "metadata": {},
     "output_type": "execute_result"
    }
   ],
   "source": [
    "# general stat\n",
    "\n",
    "df.describe()"
   ]
  },
  {
   "cell_type": "markdown",
   "metadata": {},
   "source": [
    "The data set has total of 768 rows and 9 columns. This table does not give us much insight about the data. \n",
    "\n",
    "### Attributes: \n",
    "\n",
    "The attributes that provide framework in which the given data is analyzed. Each attribute have some meaning, which can be used in different ways during our analysis. \n",
    "\n",
    "Following are the brief explanation for each of the attributes: \n",
    "- Pregnancies: Number of times pregnant\n",
    "- Glucose: Plasma glucose concentration at 2 hours in an oral glucose tolerance test. This test is done to measure level of glucose in the blood during pregnency. A normal blood glucose level is lower than 155 mg/dl (10 mmol/L) for 2 hour in glucose tolerance test. If the result is higher than normal, one will have to test again. \n",
    "- BloodPressure: Diastolic blood pressure (measured in mmHg). This kind of blood pressure is caused when ones heart relaxes and fills with blood\n",
    "- SkinThickness: Triceps skin fold thickness (measured in mm). 12 mm and 23 mm is normal thickness in males and females respectively\n",
    "- Insulin: 2-Hour serum insulin (measured mu U/ml). Normal leve 0-75 U/ml) \"This 2 hour Glucose Tolerance Test with Insulin levels is used to assess how an individual processes glucose and how the insulin in the body responds to those glucose levels. This test is typically ordered when an individual may be at risk for diabetes or has had elevated glucose levels previously.\"\n",
    "- BMI: Body mass index (mesured-  weight in kg/(height in m)^2). Normal BMI range 18.5 - 24.9, while 12 as the lower limit for survival. BMI above 40 is considered mornid obesity and is rare (1% men and 2% women). \n",
    "- Diabetes pedigree function: It indicates the function which scores likelihood of diabetes based on family histry\n",
    "- Age: Age of an individual\n",
    "- Outcome: Whether or not an individual have diabetes (We assume:  1 for yes, 0 for no)\n",
    "\n",
    "There are not any statistical calculations besides count, unique, top and frequency. We can sense that there are some things that need to be addressed before we can say anything more about the data set.\n",
    "\n"
   ]
  },
  {
   "cell_type": "markdown",
   "metadata": {},
   "source": [
    "Looking at the sample data sets in previous boxes, most or all of the dats should be of numeric data type. However, if we look at the table generated by describe() function in the previous box, we do not see any mean, stadard deviation or median values. So, it's worth looking at the data informations. "
   ]
  },
  {
   "cell_type": "code",
   "execution_count": 5,
   "metadata": {},
   "outputs": [
    {
     "name": "stdout",
     "output_type": "stream",
     "text": [
      "<class 'pandas.core.frame.DataFrame'>\n",
      "RangeIndex: 768 entries, 1 to 768\n",
      "Data columns (total 9 columns):\n",
      " #   Column                    Non-Null Count  Dtype \n",
      "---  ------                    --------------  ----- \n",
      " 0   Pregnancies               768 non-null    object\n",
      " 1   Glucose                   768 non-null    object\n",
      " 2   BloodPressure             768 non-null    object\n",
      " 3   SkinThickness             768 non-null    object\n",
      " 4   Insulin                   768 non-null    object\n",
      " 5   BMI                       768 non-null    object\n",
      " 6   DiabetesPedigreeFunction  768 non-null    object\n",
      " 7   Age                       768 non-null    object\n",
      " 8   Outcome                   768 non-null    object\n",
      "dtypes: object(9)\n",
      "memory usage: 54.1+ KB\n"
     ]
    }
   ],
   "source": [
    "df.info()"
   ]
  },
  {
   "cell_type": "markdown",
   "metadata": {},
   "source": [
    "As, we can see all of the data are listed as object data types, even though most of them if not all should be numeric based on the type of attributes they have. \n",
    "\n",
    "We will convert the data types where appropriate to numeric and generate general statistics again in the next section.  "
   ]
  },
  {
   "cell_type": "markdown",
   "metadata": {},
   "source": [
    "### Exploratory Data Analytics (EDA):"
   ]
  },
  {
   "cell_type": "markdown",
   "metadata": {},
   "source": [
    "I will be conducting a comprehensive EDA on the given data set in this section. I will also be making at least two references on the 7 stories one can tell with data. "
   ]
  },
  {
   "cell_type": "markdown",
   "metadata": {},
   "source": [
    "#### Converting to numeric"
   ]
  },
  {
   "cell_type": "code",
   "execution_count": 6,
   "metadata": {},
   "outputs": [],
   "source": [
    "\n",
    "# df = df.apply (pd.to_numeric)\n",
    "\n",
    "df = df.apply (pd.to_numeric, errors='coerce')\n"
   ]
  },
  {
   "cell_type": "code",
   "execution_count": 7,
   "metadata": {},
   "outputs": [
    {
     "data": {
      "text/plain": [
       "Index([], dtype='object')"
      ]
     },
     "execution_count": 7,
     "metadata": {},
     "output_type": "execute_result"
    }
   ],
   "source": [
    "# checking if there are still null values\n",
    "\n",
    "df.columns[df.isnull().any()]"
   ]
  },
  {
   "cell_type": "markdown",
   "metadata": {},
   "source": [
    "#### General stat"
   ]
  },
  {
   "cell_type": "code",
   "execution_count": 8,
   "metadata": {},
   "outputs": [
    {
     "data": {
      "text/html": [
       "<div>\n",
       "<style scoped>\n",
       "    .dataframe tbody tr th:only-of-type {\n",
       "        vertical-align: middle;\n",
       "    }\n",
       "\n",
       "    .dataframe tbody tr th {\n",
       "        vertical-align: top;\n",
       "    }\n",
       "\n",
       "    .dataframe thead th {\n",
       "        text-align: right;\n",
       "    }\n",
       "</style>\n",
       "<table border=\"1\" class=\"dataframe\">\n",
       "  <thead>\n",
       "    <tr style=\"text-align: right;\">\n",
       "      <th></th>\n",
       "      <th>Pregnancies</th>\n",
       "      <th>Glucose</th>\n",
       "      <th>BloodPressure</th>\n",
       "      <th>SkinThickness</th>\n",
       "      <th>Insulin</th>\n",
       "      <th>BMI</th>\n",
       "      <th>DiabetesPedigreeFunction</th>\n",
       "      <th>Age</th>\n",
       "      <th>Outcome</th>\n",
       "    </tr>\n",
       "  </thead>\n",
       "  <tbody>\n",
       "    <tr>\n",
       "      <th>count</th>\n",
       "      <td>768.000000</td>\n",
       "      <td>768.000000</td>\n",
       "      <td>768.000000</td>\n",
       "      <td>768.000000</td>\n",
       "      <td>768.000000</td>\n",
       "      <td>768.000000</td>\n",
       "      <td>768.000000</td>\n",
       "      <td>768.000000</td>\n",
       "      <td>768.000000</td>\n",
       "    </tr>\n",
       "    <tr>\n",
       "      <th>mean</th>\n",
       "      <td>3.845052</td>\n",
       "      <td>120.894531</td>\n",
       "      <td>69.105469</td>\n",
       "      <td>20.536458</td>\n",
       "      <td>79.799479</td>\n",
       "      <td>31.992578</td>\n",
       "      <td>0.471876</td>\n",
       "      <td>33.240885</td>\n",
       "      <td>0.348958</td>\n",
       "    </tr>\n",
       "    <tr>\n",
       "      <th>std</th>\n",
       "      <td>3.369578</td>\n",
       "      <td>31.972618</td>\n",
       "      <td>19.355807</td>\n",
       "      <td>15.952218</td>\n",
       "      <td>115.244002</td>\n",
       "      <td>7.884160</td>\n",
       "      <td>0.331329</td>\n",
       "      <td>11.760232</td>\n",
       "      <td>0.476951</td>\n",
       "    </tr>\n",
       "    <tr>\n",
       "      <th>min</th>\n",
       "      <td>0.000000</td>\n",
       "      <td>0.000000</td>\n",
       "      <td>0.000000</td>\n",
       "      <td>0.000000</td>\n",
       "      <td>0.000000</td>\n",
       "      <td>0.000000</td>\n",
       "      <td>0.078000</td>\n",
       "      <td>21.000000</td>\n",
       "      <td>0.000000</td>\n",
       "    </tr>\n",
       "    <tr>\n",
       "      <th>25%</th>\n",
       "      <td>1.000000</td>\n",
       "      <td>99.000000</td>\n",
       "      <td>62.000000</td>\n",
       "      <td>0.000000</td>\n",
       "      <td>0.000000</td>\n",
       "      <td>27.300000</td>\n",
       "      <td>0.243750</td>\n",
       "      <td>24.000000</td>\n",
       "      <td>0.000000</td>\n",
       "    </tr>\n",
       "    <tr>\n",
       "      <th>50%</th>\n",
       "      <td>3.000000</td>\n",
       "      <td>117.000000</td>\n",
       "      <td>72.000000</td>\n",
       "      <td>23.000000</td>\n",
       "      <td>30.500000</td>\n",
       "      <td>32.000000</td>\n",
       "      <td>0.372500</td>\n",
       "      <td>29.000000</td>\n",
       "      <td>0.000000</td>\n",
       "    </tr>\n",
       "    <tr>\n",
       "      <th>75%</th>\n",
       "      <td>6.000000</td>\n",
       "      <td>140.250000</td>\n",
       "      <td>80.000000</td>\n",
       "      <td>32.000000</td>\n",
       "      <td>127.250000</td>\n",
       "      <td>36.600000</td>\n",
       "      <td>0.626250</td>\n",
       "      <td>41.000000</td>\n",
       "      <td>1.000000</td>\n",
       "    </tr>\n",
       "    <tr>\n",
       "      <th>max</th>\n",
       "      <td>17.000000</td>\n",
       "      <td>199.000000</td>\n",
       "      <td>122.000000</td>\n",
       "      <td>99.000000</td>\n",
       "      <td>846.000000</td>\n",
       "      <td>67.100000</td>\n",
       "      <td>2.420000</td>\n",
       "      <td>81.000000</td>\n",
       "      <td>1.000000</td>\n",
       "    </tr>\n",
       "  </tbody>\n",
       "</table>\n",
       "</div>"
      ],
      "text/plain": [
       "       Pregnancies     Glucose  BloodPressure  SkinThickness     Insulin  \\\n",
       "count   768.000000  768.000000     768.000000     768.000000  768.000000   \n",
       "mean      3.845052  120.894531      69.105469      20.536458   79.799479   \n",
       "std       3.369578   31.972618      19.355807      15.952218  115.244002   \n",
       "min       0.000000    0.000000       0.000000       0.000000    0.000000   \n",
       "25%       1.000000   99.000000      62.000000       0.000000    0.000000   \n",
       "50%       3.000000  117.000000      72.000000      23.000000   30.500000   \n",
       "75%       6.000000  140.250000      80.000000      32.000000  127.250000   \n",
       "max      17.000000  199.000000     122.000000      99.000000  846.000000   \n",
       "\n",
       "              BMI  DiabetesPedigreeFunction         Age     Outcome  \n",
       "count  768.000000                768.000000  768.000000  768.000000  \n",
       "mean    31.992578                  0.471876   33.240885    0.348958  \n",
       "std      7.884160                  0.331329   11.760232    0.476951  \n",
       "min      0.000000                  0.078000   21.000000    0.000000  \n",
       "25%     27.300000                  0.243750   24.000000    0.000000  \n",
       "50%     32.000000                  0.372500   29.000000    0.000000  \n",
       "75%     36.600000                  0.626250   41.000000    1.000000  \n",
       "max     67.100000                  2.420000   81.000000    1.000000  "
      ]
     },
     "execution_count": 8,
     "metadata": {},
     "output_type": "execute_result"
    }
   ],
   "source": [
    "df.describe()"
   ]
  },
  {
   "cell_type": "markdown",
   "metadata": {},
   "source": [
    "Having converted the data set to numeric, a lot more information is generated which can be interpreted. \n",
    "\n",
    "Following few things are noticable when we go through each of the attributes: \n",
    "- Pregnencies: The maximum number of pregnencies is 17, which is not an impossible number but, we need to varify if that is actually 17 or was error in data entry\n",
    "- Glucose: The blood glucose level lower than 155 mg/dl is considered normal for plasma glucose concentration at 2 hour in an oral glucose tolerance test, but I highly doubt it will ever be zero. We will look into it in detail in the next section\n",
    "- Blood pressure: Blood pressure of a alive person can not be at zero for min value\n",
    "- SkinThickness: Skin fold thickness for of a person cannot be a zero\n",
    "- Insulin: Insulin being zero is highlu unlikely but it is possible, we will look at how many of them have such condition and determine if they are accurate or not\n",
    "- BMI: BMI should not be of zero value, BMI less than 18.49 is considered underweight. Unless someone is critical medical condition, BMI is higher than zero\n",
    "\n",
    "I will be doing data cleaning when I deal with preparing data, however I will move on to gather some graphical representations of the current data. "
   ]
  },
  {
   "cell_type": "code",
   "execution_count": 9,
   "metadata": {},
   "outputs": [
    {
     "data": {
      "text/html": [
       "<div>\n",
       "<style scoped>\n",
       "    .dataframe tbody tr th:only-of-type {\n",
       "        vertical-align: middle;\n",
       "    }\n",
       "\n",
       "    .dataframe tbody tr th {\n",
       "        vertical-align: top;\n",
       "    }\n",
       "\n",
       "    .dataframe thead th {\n",
       "        text-align: right;\n",
       "    }\n",
       "</style>\n",
       "<table border=\"1\" class=\"dataframe\">\n",
       "  <thead>\n",
       "    <tr style=\"text-align: right;\">\n",
       "      <th></th>\n",
       "      <th>Pregnancies</th>\n",
       "      <th>Glucose</th>\n",
       "      <th>BloodPressure</th>\n",
       "      <th>SkinThickness</th>\n",
       "      <th>Insulin</th>\n",
       "      <th>BMI</th>\n",
       "      <th>DiabetesPedigreeFunction</th>\n",
       "      <th>Age</th>\n",
       "      <th>Outcome</th>\n",
       "    </tr>\n",
       "  </thead>\n",
       "  <tbody>\n",
       "    <tr>\n",
       "      <th>Pregnancies</th>\n",
       "      <td>1.000000</td>\n",
       "      <td>0.129459</td>\n",
       "      <td>0.141282</td>\n",
       "      <td>-0.081672</td>\n",
       "      <td>-0.073535</td>\n",
       "      <td>0.017683</td>\n",
       "      <td>-0.033523</td>\n",
       "      <td>0.544341</td>\n",
       "      <td>0.221898</td>\n",
       "    </tr>\n",
       "    <tr>\n",
       "      <th>Glucose</th>\n",
       "      <td>0.129459</td>\n",
       "      <td>1.000000</td>\n",
       "      <td>0.152590</td>\n",
       "      <td>0.057328</td>\n",
       "      <td>0.331357</td>\n",
       "      <td>0.221071</td>\n",
       "      <td>0.137337</td>\n",
       "      <td>0.263514</td>\n",
       "      <td>0.466581</td>\n",
       "    </tr>\n",
       "    <tr>\n",
       "      <th>BloodPressure</th>\n",
       "      <td>0.141282</td>\n",
       "      <td>0.152590</td>\n",
       "      <td>1.000000</td>\n",
       "      <td>0.207371</td>\n",
       "      <td>0.088933</td>\n",
       "      <td>0.281805</td>\n",
       "      <td>0.041265</td>\n",
       "      <td>0.239528</td>\n",
       "      <td>0.065068</td>\n",
       "    </tr>\n",
       "    <tr>\n",
       "      <th>SkinThickness</th>\n",
       "      <td>-0.081672</td>\n",
       "      <td>0.057328</td>\n",
       "      <td>0.207371</td>\n",
       "      <td>1.000000</td>\n",
       "      <td>0.436783</td>\n",
       "      <td>0.392573</td>\n",
       "      <td>0.183928</td>\n",
       "      <td>-0.113970</td>\n",
       "      <td>0.074752</td>\n",
       "    </tr>\n",
       "    <tr>\n",
       "      <th>Insulin</th>\n",
       "      <td>-0.073535</td>\n",
       "      <td>0.331357</td>\n",
       "      <td>0.088933</td>\n",
       "      <td>0.436783</td>\n",
       "      <td>1.000000</td>\n",
       "      <td>0.197859</td>\n",
       "      <td>0.185071</td>\n",
       "      <td>-0.042163</td>\n",
       "      <td>0.130548</td>\n",
       "    </tr>\n",
       "    <tr>\n",
       "      <th>BMI</th>\n",
       "      <td>0.017683</td>\n",
       "      <td>0.221071</td>\n",
       "      <td>0.281805</td>\n",
       "      <td>0.392573</td>\n",
       "      <td>0.197859</td>\n",
       "      <td>1.000000</td>\n",
       "      <td>0.140647</td>\n",
       "      <td>0.036242</td>\n",
       "      <td>0.292695</td>\n",
       "    </tr>\n",
       "    <tr>\n",
       "      <th>DiabetesPedigreeFunction</th>\n",
       "      <td>-0.033523</td>\n",
       "      <td>0.137337</td>\n",
       "      <td>0.041265</td>\n",
       "      <td>0.183928</td>\n",
       "      <td>0.185071</td>\n",
       "      <td>0.140647</td>\n",
       "      <td>1.000000</td>\n",
       "      <td>0.033561</td>\n",
       "      <td>0.173844</td>\n",
       "    </tr>\n",
       "    <tr>\n",
       "      <th>Age</th>\n",
       "      <td>0.544341</td>\n",
       "      <td>0.263514</td>\n",
       "      <td>0.239528</td>\n",
       "      <td>-0.113970</td>\n",
       "      <td>-0.042163</td>\n",
       "      <td>0.036242</td>\n",
       "      <td>0.033561</td>\n",
       "      <td>1.000000</td>\n",
       "      <td>0.238356</td>\n",
       "    </tr>\n",
       "    <tr>\n",
       "      <th>Outcome</th>\n",
       "      <td>0.221898</td>\n",
       "      <td>0.466581</td>\n",
       "      <td>0.065068</td>\n",
       "      <td>0.074752</td>\n",
       "      <td>0.130548</td>\n",
       "      <td>0.292695</td>\n",
       "      <td>0.173844</td>\n",
       "      <td>0.238356</td>\n",
       "      <td>1.000000</td>\n",
       "    </tr>\n",
       "  </tbody>\n",
       "</table>\n",
       "</div>"
      ],
      "text/plain": [
       "                          Pregnancies   Glucose  BloodPressure  SkinThickness  \\\n",
       "Pregnancies                  1.000000  0.129459       0.141282      -0.081672   \n",
       "Glucose                      0.129459  1.000000       0.152590       0.057328   \n",
       "BloodPressure                0.141282  0.152590       1.000000       0.207371   \n",
       "SkinThickness               -0.081672  0.057328       0.207371       1.000000   \n",
       "Insulin                     -0.073535  0.331357       0.088933       0.436783   \n",
       "BMI                          0.017683  0.221071       0.281805       0.392573   \n",
       "DiabetesPedigreeFunction    -0.033523  0.137337       0.041265       0.183928   \n",
       "Age                          0.544341  0.263514       0.239528      -0.113970   \n",
       "Outcome                      0.221898  0.466581       0.065068       0.074752   \n",
       "\n",
       "                           Insulin       BMI  DiabetesPedigreeFunction  \\\n",
       "Pregnancies              -0.073535  0.017683                 -0.033523   \n",
       "Glucose                   0.331357  0.221071                  0.137337   \n",
       "BloodPressure             0.088933  0.281805                  0.041265   \n",
       "SkinThickness             0.436783  0.392573                  0.183928   \n",
       "Insulin                   1.000000  0.197859                  0.185071   \n",
       "BMI                       0.197859  1.000000                  0.140647   \n",
       "DiabetesPedigreeFunction  0.185071  0.140647                  1.000000   \n",
       "Age                      -0.042163  0.036242                  0.033561   \n",
       "Outcome                   0.130548  0.292695                  0.173844   \n",
       "\n",
       "                               Age   Outcome  \n",
       "Pregnancies               0.544341  0.221898  \n",
       "Glucose                   0.263514  0.466581  \n",
       "BloodPressure             0.239528  0.065068  \n",
       "SkinThickness            -0.113970  0.074752  \n",
       "Insulin                  -0.042163  0.130548  \n",
       "BMI                       0.036242  0.292695  \n",
       "DiabetesPedigreeFunction  0.033561  0.173844  \n",
       "Age                       1.000000  0.238356  \n",
       "Outcome                   0.238356  1.000000  "
      ]
     },
     "execution_count": 9,
     "metadata": {},
     "output_type": "execute_result"
    }
   ],
   "source": [
    "#corelation map of data (non catogerical data)\n",
    "df.corr()"
   ]
  },
  {
   "cell_type": "code",
   "execution_count": 10,
   "metadata": {},
   "outputs": [
    {
     "data": {
      "text/plain": [
       "<AxesSubplot:>"
      ]
     },
     "execution_count": 10,
     "metadata": {},
     "output_type": "execute_result"
    },
    {
     "data": {
      "image/png": "[encoded data removed]",
      "text/plain": [
       "<Figure size 720x720 with 2 Axes>"
      ]
     },
     "metadata": {
      "needs_background": "light"
     },
     "output_type": "display_data"
    }
   ],
   "source": [
    "# corelation map in sns heatmap\n",
    "corr = df.corr()\n",
    "plt.figure(figsize=(10,10))\n",
    "sns.heatmap(data=corr, square=True, annot=True, cbar=True)"
   ]
  },
  {
   "cell_type": "markdown",
   "metadata": {},
   "source": [
    "From the above corelation table and diagram, I can say that few things that are in desirable corelation range are BMI and SkinThickness, Pregnencies and Age, Insuline and Glucose level."
   ]
  },
  {
   "cell_type": "code",
   "execution_count": 11,
   "metadata": {},
   "outputs": [
    {
     "data": {
      "text/plain": [
       "<AxesSubplot:xlabel='Insulin'>"
      ]
     },
     "execution_count": 11,
     "metadata": {},
     "output_type": "execute_result"
    },
    {
     "data": {
      "image/png": "[encoded data removed]",
      "text/plain": [
       "<Figure size 432x288 with 1 Axes>"
      ]
     },
     "metadata": {
      "needs_background": "light"
     },
     "output_type": "display_data"
    }
   ],
   "source": [
    "sns.boxplot(df.Insulin)"
   ]
  },
  {
   "cell_type": "markdown",
   "metadata": {},
   "source": [
    "Insulin data is highly imbalanced, it has very high amount of outliers."
   ]
  },
  {
   "cell_type": "code",
   "execution_count": 12,
   "metadata": {},
   "outputs": [
    {
     "data": {
      "text/plain": [
       "<AxesSubplot:xlabel='SkinThickness'>"
      ]
     },
     "execution_count": 12,
     "metadata": {},
     "output_type": "execute_result"
    },
    {
     "data": {
      "image/png": "[encoded data removed]",
      "text/plain": [
       "<Figure size 432x288 with 1 Axes>"
      ]
     },
     "metadata": {
      "needs_background": "light"
     },
     "output_type": "display_data"
    }
   ],
   "source": [
    "sns.boxplot(df.SkinThickness)"
   ]
  },
  {
   "cell_type": "markdown",
   "metadata": {},
   "source": [
    "Even skin thickness has very high amount of outliers. "
   ]
  },
  {
   "cell_type": "markdown",
   "metadata": {},
   "source": [
    "#### Coefficient Interpretations"
   ]
  },
  {
   "cell_type": "code",
   "execution_count": 13,
   "metadata": {},
   "outputs": [
    {
     "data": {
      "text/html": [
       "<div>\n",
       "<style scoped>\n",
       "    .dataframe tbody tr th:only-of-type {\n",
       "        vertical-align: middle;\n",
       "    }\n",
       "\n",
       "    .dataframe tbody tr th {\n",
       "        vertical-align: top;\n",
       "    }\n",
       "\n",
       "    .dataframe thead th {\n",
       "        text-align: right;\n",
       "    }\n",
       "</style>\n",
       "<table border=\"1\" class=\"dataframe\">\n",
       "  <thead>\n",
       "    <tr style=\"text-align: right;\">\n",
       "      <th></th>\n",
       "      <th>Pregnancies</th>\n",
       "      <th>Glucose</th>\n",
       "      <th>BloodPressure</th>\n",
       "      <th>SkinThickness</th>\n",
       "      <th>Insulin</th>\n",
       "      <th>BMI</th>\n",
       "      <th>DiabetesPedigreeFunction</th>\n",
       "      <th>Outcome</th>\n",
       "    </tr>\n",
       "    <tr>\n",
       "      <th>Age</th>\n",
       "      <th></th>\n",
       "      <th></th>\n",
       "      <th></th>\n",
       "      <th></th>\n",
       "      <th></th>\n",
       "      <th></th>\n",
       "      <th></th>\n",
       "      <th></th>\n",
       "    </tr>\n",
       "  </thead>\n",
       "  <tbody>\n",
       "    <tr>\n",
       "      <th>21</th>\n",
       "      <td>1.079365</td>\n",
       "      <td>108.317460</td>\n",
       "      <td>65.936508</td>\n",
       "      <td>19.349206</td>\n",
       "      <td>73.634921</td>\n",
       "      <td>27.817460</td>\n",
       "      <td>0.433825</td>\n",
       "      <td>0.079365</td>\n",
       "    </tr>\n",
       "    <tr>\n",
       "      <th>22</th>\n",
       "      <td>1.555556</td>\n",
       "      <td>108.208333</td>\n",
       "      <td>63.722222</td>\n",
       "      <td>20.486111</td>\n",
       "      <td>74.486111</td>\n",
       "      <td>29.509722</td>\n",
       "      <td>0.430625</td>\n",
       "      <td>0.152778</td>\n",
       "    </tr>\n",
       "    <tr>\n",
       "      <th>23</th>\n",
       "      <td>1.578947</td>\n",
       "      <td>111.578947</td>\n",
       "      <td>64.315789</td>\n",
       "      <td>22.368421</td>\n",
       "      <td>118.026316</td>\n",
       "      <td>31.502632</td>\n",
       "      <td>0.438579</td>\n",
       "      <td>0.184211</td>\n",
       "    </tr>\n",
       "    <tr>\n",
       "      <th>24</th>\n",
       "      <td>1.891304</td>\n",
       "      <td>117.891304</td>\n",
       "      <td>64.956522</td>\n",
       "      <td>25.934783</td>\n",
       "      <td>88.021739</td>\n",
       "      <td>32.569565</td>\n",
       "      <td>0.393565</td>\n",
       "      <td>0.173913</td>\n",
       "    </tr>\n",
       "    <tr>\n",
       "      <th>25</th>\n",
       "      <td>1.770833</td>\n",
       "      <td>110.083333</td>\n",
       "      <td>59.666667</td>\n",
       "      <td>23.958333</td>\n",
       "      <td>82.895833</td>\n",
       "      <td>31.943750</td>\n",
       "      <td>0.600500</td>\n",
       "      <td>0.291667</td>\n",
       "    </tr>\n",
       "    <tr>\n",
       "      <th>26</th>\n",
       "      <td>1.969697</td>\n",
       "      <td>118.212121</td>\n",
       "      <td>64.181818</td>\n",
       "      <td>23.666667</td>\n",
       "      <td>90.878788</td>\n",
       "      <td>34.915152</td>\n",
       "      <td>0.413455</td>\n",
       "      <td>0.242424</td>\n",
       "    </tr>\n",
       "    <tr>\n",
       "      <th>27</th>\n",
       "      <td>2.562500</td>\n",
       "      <td>115.281250</td>\n",
       "      <td>73.500000</td>\n",
       "      <td>18.375000</td>\n",
       "      <td>63.125000</td>\n",
       "      <td>31.950000</td>\n",
       "      <td>0.471750</td>\n",
       "      <td>0.250000</td>\n",
       "    </tr>\n",
       "    <tr>\n",
       "      <th>28</th>\n",
       "      <td>3.028571</td>\n",
       "      <td>119.914286</td>\n",
       "      <td>68.314286</td>\n",
       "      <td>23.628571</td>\n",
       "      <td>94.600000</td>\n",
       "      <td>33.642857</td>\n",
       "      <td>0.459629</td>\n",
       "      <td>0.285714</td>\n",
       "    </tr>\n",
       "    <tr>\n",
       "      <th>29</th>\n",
       "      <td>3.310345</td>\n",
       "      <td>127.379310</td>\n",
       "      <td>68.241379</td>\n",
       "      <td>21.000000</td>\n",
       "      <td>88.793103</td>\n",
       "      <td>33.541379</td>\n",
       "      <td>0.408897</td>\n",
       "      <td>0.448276</td>\n",
       "    </tr>\n",
       "    <tr>\n",
       "      <th>30</th>\n",
       "      <td>3.619048</td>\n",
       "      <td>122.285714</td>\n",
       "      <td>64.857143</td>\n",
       "      <td>18.904762</td>\n",
       "      <td>82.666667</td>\n",
       "      <td>30.033333</td>\n",
       "      <td>0.367238</td>\n",
       "      <td>0.285714</td>\n",
       "    </tr>\n",
       "    <tr>\n",
       "      <th>31</th>\n",
       "      <td>3.875000</td>\n",
       "      <td>126.958333</td>\n",
       "      <td>64.375000</td>\n",
       "      <td>20.000000</td>\n",
       "      <td>111.166667</td>\n",
       "      <td>34.016667</td>\n",
       "      <td>0.589583</td>\n",
       "      <td>0.541667</td>\n",
       "    </tr>\n",
       "    <tr>\n",
       "      <th>32</th>\n",
       "      <td>4.437500</td>\n",
       "      <td>116.312500</td>\n",
       "      <td>70.062500</td>\n",
       "      <td>18.187500</td>\n",
       "      <td>35.812500</td>\n",
       "      <td>32.318750</td>\n",
       "      <td>0.613250</td>\n",
       "      <td>0.562500</td>\n",
       "    </tr>\n",
       "    <tr>\n",
       "      <th>33</th>\n",
       "      <td>4.058824</td>\n",
       "      <td>122.882353</td>\n",
       "      <td>65.647059</td>\n",
       "      <td>21.705882</td>\n",
       "      <td>85.588235</td>\n",
       "      <td>32.335294</td>\n",
       "      <td>0.734176</td>\n",
       "      <td>0.588235</td>\n",
       "    </tr>\n",
       "    <tr>\n",
       "      <th>34</th>\n",
       "      <td>5.857143</td>\n",
       "      <td>131.857143</td>\n",
       "      <td>74.000000</td>\n",
       "      <td>18.714286</td>\n",
       "      <td>148.071429</td>\n",
       "      <td>31.164286</td>\n",
       "      <td>0.649857</td>\n",
       "      <td>0.285714</td>\n",
       "    </tr>\n",
       "    <tr>\n",
       "      <th>35</th>\n",
       "      <td>5.000000</td>\n",
       "      <td>121.400000</td>\n",
       "      <td>75.600000</td>\n",
       "      <td>22.600000</td>\n",
       "      <td>75.000000</td>\n",
       "      <td>33.780000</td>\n",
       "      <td>0.454000</td>\n",
       "      <td>0.500000</td>\n",
       "    </tr>\n",
       "    <tr>\n",
       "      <th>36</th>\n",
       "      <td>5.187500</td>\n",
       "      <td>132.437500</td>\n",
       "      <td>69.125000</td>\n",
       "      <td>19.187500</td>\n",
       "      <td>65.812500</td>\n",
       "      <td>31.718750</td>\n",
       "      <td>0.472875</td>\n",
       "      <td>0.625000</td>\n",
       "    </tr>\n",
       "    <tr>\n",
       "      <th>37</th>\n",
       "      <td>5.263158</td>\n",
       "      <td>130.157895</td>\n",
       "      <td>75.947368</td>\n",
       "      <td>18.315789</td>\n",
       "      <td>59.263158</td>\n",
       "      <td>32.078947</td>\n",
       "      <td>0.414632</td>\n",
       "      <td>0.315789</td>\n",
       "    </tr>\n",
       "    <tr>\n",
       "      <th>38</th>\n",
       "      <td>6.875000</td>\n",
       "      <td>121.125000</td>\n",
       "      <td>71.125000</td>\n",
       "      <td>19.625000</td>\n",
       "      <td>33.500000</td>\n",
       "      <td>35.568750</td>\n",
       "      <td>0.413938</td>\n",
       "      <td>0.625000</td>\n",
       "    </tr>\n",
       "    <tr>\n",
       "      <th>39</th>\n",
       "      <td>7.416667</td>\n",
       "      <td>126.750000</td>\n",
       "      <td>72.666667</td>\n",
       "      <td>26.083333</td>\n",
       "      <td>72.416667</td>\n",
       "      <td>31.983333</td>\n",
       "      <td>0.605917</td>\n",
       "      <td>0.250000</td>\n",
       "    </tr>\n",
       "    <tr>\n",
       "      <th>40</th>\n",
       "      <td>6.230769</td>\n",
       "      <td>130.923077</td>\n",
       "      <td>69.230769</td>\n",
       "      <td>24.230769</td>\n",
       "      <td>72.307692</td>\n",
       "      <td>33.538462</td>\n",
       "      <td>0.376077</td>\n",
       "      <td>0.461538</td>\n",
       "    </tr>\n",
       "    <tr>\n",
       "      <th>41</th>\n",
       "      <td>6.500000</td>\n",
       "      <td>129.090909</td>\n",
       "      <td>67.590909</td>\n",
       "      <td>17.409091</td>\n",
       "      <td>38.818182</td>\n",
       "      <td>35.259091</td>\n",
       "      <td>0.396273</td>\n",
       "      <td>0.590909</td>\n",
       "    </tr>\n",
       "    <tr>\n",
       "      <th>42</th>\n",
       "      <td>6.888889</td>\n",
       "      <td>109.555556</td>\n",
       "      <td>73.388889</td>\n",
       "      <td>19.222222</td>\n",
       "      <td>61.277778</td>\n",
       "      <td>34.983333</td>\n",
       "      <td>0.388000</td>\n",
       "      <td>0.388889</td>\n",
       "    </tr>\n",
       "    <tr>\n",
       "      <th>43</th>\n",
       "      <td>7.769231</td>\n",
       "      <td>133.000000</td>\n",
       "      <td>78.461538</td>\n",
       "      <td>27.846154</td>\n",
       "      <td>125.153846</td>\n",
       "      <td>36.892308</td>\n",
       "      <td>0.450846</td>\n",
       "      <td>0.846154</td>\n",
       "    </tr>\n",
       "    <tr>\n",
       "      <th>44</th>\n",
       "      <td>7.250000</td>\n",
       "      <td>124.375000</td>\n",
       "      <td>61.750000</td>\n",
       "      <td>4.625000</td>\n",
       "      <td>32.250000</td>\n",
       "      <td>34.162500</td>\n",
       "      <td>0.668375</td>\n",
       "      <td>0.625000</td>\n",
       "    </tr>\n",
       "    <tr>\n",
       "      <th>45</th>\n",
       "      <td>7.333333</td>\n",
       "      <td>131.200000</td>\n",
       "      <td>83.066667</td>\n",
       "      <td>20.600000</td>\n",
       "      <td>31.133333</td>\n",
       "      <td>34.960000</td>\n",
       "      <td>0.496467</td>\n",
       "      <td>0.533333</td>\n",
       "    </tr>\n",
       "    <tr>\n",
       "      <th>46</th>\n",
       "      <td>6.384615</td>\n",
       "      <td>105.923077</td>\n",
       "      <td>76.000000</td>\n",
       "      <td>24.153846</td>\n",
       "      <td>112.307692</td>\n",
       "      <td>34.523077</td>\n",
       "      <td>0.426846</td>\n",
       "      <td>0.538462</td>\n",
       "    </tr>\n",
       "    <tr>\n",
       "      <th>47</th>\n",
       "      <td>8.333333</td>\n",
       "      <td>137.000000</td>\n",
       "      <td>78.333333</td>\n",
       "      <td>14.500000</td>\n",
       "      <td>49.166667</td>\n",
       "      <td>34.566667</td>\n",
       "      <td>0.355333</td>\n",
       "      <td>0.666667</td>\n",
       "    </tr>\n",
       "    <tr>\n",
       "      <th>48</th>\n",
       "      <td>8.800000</td>\n",
       "      <td>107.600000</td>\n",
       "      <td>78.400000</td>\n",
       "      <td>23.400000</td>\n",
       "      <td>52.000000</td>\n",
       "      <td>29.980000</td>\n",
       "      <td>0.456800</td>\n",
       "      <td>0.200000</td>\n",
       "    </tr>\n",
       "    <tr>\n",
       "      <th>49</th>\n",
       "      <td>7.600000</td>\n",
       "      <td>153.000000</td>\n",
       "      <td>81.400000</td>\n",
       "      <td>21.600000</td>\n",
       "      <td>55.200000</td>\n",
       "      <td>32.020000</td>\n",
       "      <td>0.612000</td>\n",
       "      <td>0.600000</td>\n",
       "    </tr>\n",
       "    <tr>\n",
       "      <th>50</th>\n",
       "      <td>6.750000</td>\n",
       "      <td>138.250000</td>\n",
       "      <td>78.250000</td>\n",
       "      <td>16.000000</td>\n",
       "      <td>26.375000</td>\n",
       "      <td>31.225000</td>\n",
       "      <td>0.470125</td>\n",
       "      <td>0.625000</td>\n",
       "    </tr>\n",
       "    <tr>\n",
       "      <th>51</th>\n",
       "      <td>8.625000</td>\n",
       "      <td>147.625000</td>\n",
       "      <td>84.500000</td>\n",
       "      <td>21.875000</td>\n",
       "      <td>129.375000</td>\n",
       "      <td>33.975000</td>\n",
       "      <td>0.615250</td>\n",
       "      <td>0.625000</td>\n",
       "    </tr>\n",
       "    <tr>\n",
       "      <th>52</th>\n",
       "      <td>4.625000</td>\n",
       "      <td>133.000000</td>\n",
       "      <td>81.500000</td>\n",
       "      <td>13.375000</td>\n",
       "      <td>94.500000</td>\n",
       "      <td>33.475000</td>\n",
       "      <td>0.505375</td>\n",
       "      <td>0.875000</td>\n",
       "    </tr>\n",
       "    <tr>\n",
       "      <th>53</th>\n",
       "      <td>5.400000</td>\n",
       "      <td>158.000000</td>\n",
       "      <td>79.000000</td>\n",
       "      <td>21.200000</td>\n",
       "      <td>183.000000</td>\n",
       "      <td>30.500000</td>\n",
       "      <td>0.550600</td>\n",
       "      <td>0.800000</td>\n",
       "    </tr>\n",
       "    <tr>\n",
       "      <th>54</th>\n",
       "      <td>7.000000</td>\n",
       "      <td>140.333333</td>\n",
       "      <td>89.333333</td>\n",
       "      <td>8.833333</td>\n",
       "      <td>61.000000</td>\n",
       "      <td>30.800000</td>\n",
       "      <td>0.465500</td>\n",
       "      <td>0.666667</td>\n",
       "    </tr>\n",
       "    <tr>\n",
       "      <th>55</th>\n",
       "      <td>5.500000</td>\n",
       "      <td>140.750000</td>\n",
       "      <td>70.250000</td>\n",
       "      <td>16.250000</td>\n",
       "      <td>83.750000</td>\n",
       "      <td>27.025000</td>\n",
       "      <td>0.226500</td>\n",
       "      <td>0.250000</td>\n",
       "    </tr>\n",
       "    <tr>\n",
       "      <th>56</th>\n",
       "      <td>8.000000</td>\n",
       "      <td>98.333333</td>\n",
       "      <td>76.333333</td>\n",
       "      <td>32.333333</td>\n",
       "      <td>69.000000</td>\n",
       "      <td>31.700000</td>\n",
       "      <td>0.936667</td>\n",
       "      <td>0.666667</td>\n",
       "    </tr>\n",
       "    <tr>\n",
       "      <th>57</th>\n",
       "      <td>8.800000</td>\n",
       "      <td>137.800000</td>\n",
       "      <td>76.800000</td>\n",
       "      <td>9.600000</td>\n",
       "      <td>78.000000</td>\n",
       "      <td>29.700000</td>\n",
       "      <td>0.704000</td>\n",
       "      <td>0.200000</td>\n",
       "    </tr>\n",
       "    <tr>\n",
       "      <th>58</th>\n",
       "      <td>7.142857</td>\n",
       "      <td>135.142857</td>\n",
       "      <td>78.285714</td>\n",
       "      <td>19.285714</td>\n",
       "      <td>167.857143</td>\n",
       "      <td>32.428571</td>\n",
       "      <td>0.554714</td>\n",
       "      <td>0.428571</td>\n",
       "    </tr>\n",
       "    <tr>\n",
       "      <th>59</th>\n",
       "      <td>2.333333</td>\n",
       "      <td>173.333333</td>\n",
       "      <td>74.000000</td>\n",
       "      <td>16.666667</td>\n",
       "      <td>282.000000</td>\n",
       "      <td>26.966667</td>\n",
       "      <td>0.252667</td>\n",
       "      <td>0.666667</td>\n",
       "    </tr>\n",
       "    <tr>\n",
       "      <th>60</th>\n",
       "      <td>6.000000</td>\n",
       "      <td>146.400000</td>\n",
       "      <td>80.000000</td>\n",
       "      <td>20.000000</td>\n",
       "      <td>164.200000</td>\n",
       "      <td>28.740000</td>\n",
       "      <td>0.436800</td>\n",
       "      <td>0.400000</td>\n",
       "    </tr>\n",
       "    <tr>\n",
       "      <th>61</th>\n",
       "      <td>5.500000</td>\n",
       "      <td>144.000000</td>\n",
       "      <td>76.000000</td>\n",
       "      <td>16.500000</td>\n",
       "      <td>95.000000</td>\n",
       "      <td>30.000000</td>\n",
       "      <td>0.613000</td>\n",
       "      <td>0.500000</td>\n",
       "    </tr>\n",
       "    <tr>\n",
       "      <th>62</th>\n",
       "      <td>3.750000</td>\n",
       "      <td>139.500000</td>\n",
       "      <td>71.500000</td>\n",
       "      <td>29.000000</td>\n",
       "      <td>0.000000</td>\n",
       "      <td>28.950000</td>\n",
       "      <td>0.565500</td>\n",
       "      <td>0.500000</td>\n",
       "    </tr>\n",
       "    <tr>\n",
       "      <th>63</th>\n",
       "      <td>5.500000</td>\n",
       "      <td>133.250000</td>\n",
       "      <td>78.000000</td>\n",
       "      <td>23.500000</td>\n",
       "      <td>45.000000</td>\n",
       "      <td>30.775000</td>\n",
       "      <td>0.249250</td>\n",
       "      <td>0.000000</td>\n",
       "    </tr>\n",
       "    <tr>\n",
       "      <th>64</th>\n",
       "      <td>8.000000</td>\n",
       "      <td>120.000000</td>\n",
       "      <td>78.000000</td>\n",
       "      <td>0.000000</td>\n",
       "      <td>0.000000</td>\n",
       "      <td>25.000000</td>\n",
       "      <td>0.409000</td>\n",
       "      <td>0.000000</td>\n",
       "    </tr>\n",
       "    <tr>\n",
       "      <th>65</th>\n",
       "      <td>3.333333</td>\n",
       "      <td>137.000000</td>\n",
       "      <td>78.666667</td>\n",
       "      <td>12.333333</td>\n",
       "      <td>0.000000</td>\n",
       "      <td>31.600000</td>\n",
       "      <td>0.259000</td>\n",
       "      <td>0.000000</td>\n",
       "    </tr>\n",
       "    <tr>\n",
       "      <th>66</th>\n",
       "      <td>5.000000</td>\n",
       "      <td>157.000000</td>\n",
       "      <td>86.000000</td>\n",
       "      <td>0.000000</td>\n",
       "      <td>0.000000</td>\n",
       "      <td>30.375000</td>\n",
       "      <td>0.408500</td>\n",
       "      <td>0.500000</td>\n",
       "    </tr>\n",
       "    <tr>\n",
       "      <th>67</th>\n",
       "      <td>4.000000</td>\n",
       "      <td>132.333333</td>\n",
       "      <td>72.666667</td>\n",
       "      <td>0.000000</td>\n",
       "      <td>0.000000</td>\n",
       "      <td>28.766667</td>\n",
       "      <td>0.602000</td>\n",
       "      <td>0.333333</td>\n",
       "    </tr>\n",
       "    <tr>\n",
       "      <th>68</th>\n",
       "      <td>8.000000</td>\n",
       "      <td>91.000000</td>\n",
       "      <td>82.000000</td>\n",
       "      <td>0.000000</td>\n",
       "      <td>0.000000</td>\n",
       "      <td>35.600000</td>\n",
       "      <td>0.587000</td>\n",
       "      <td>0.000000</td>\n",
       "    </tr>\n",
       "    <tr>\n",
       "      <th>69</th>\n",
       "      <td>5.000000</td>\n",
       "      <td>134.000000</td>\n",
       "      <td>81.000000</td>\n",
       "      <td>0.000000</td>\n",
       "      <td>0.000000</td>\n",
       "      <td>13.400000</td>\n",
       "      <td>0.413000</td>\n",
       "      <td>0.000000</td>\n",
       "    </tr>\n",
       "    <tr>\n",
       "      <th>70</th>\n",
       "      <td>4.000000</td>\n",
       "      <td>145.000000</td>\n",
       "      <td>82.000000</td>\n",
       "      <td>18.000000</td>\n",
       "      <td>0.000000</td>\n",
       "      <td>32.500000</td>\n",
       "      <td>0.235000</td>\n",
       "      <td>1.000000</td>\n",
       "    </tr>\n",
       "    <tr>\n",
       "      <th>72</th>\n",
       "      <td>2.000000</td>\n",
       "      <td>119.000000</td>\n",
       "      <td>0.000000</td>\n",
       "      <td>0.000000</td>\n",
       "      <td>0.000000</td>\n",
       "      <td>19.600000</td>\n",
       "      <td>0.832000</td>\n",
       "      <td>0.000000</td>\n",
       "    </tr>\n",
       "    <tr>\n",
       "      <th>81</th>\n",
       "      <td>9.000000</td>\n",
       "      <td>134.000000</td>\n",
       "      <td>74.000000</td>\n",
       "      <td>33.000000</td>\n",
       "      <td>60.000000</td>\n",
       "      <td>25.900000</td>\n",
       "      <td>0.460000</td>\n",
       "      <td>0.000000</td>\n",
       "    </tr>\n",
       "  </tbody>\n",
       "</table>\n",
       "</div>"
      ],
      "text/plain": [
       "     Pregnancies     Glucose  BloodPressure  SkinThickness     Insulin  \\\n",
       "Age                                                                      \n",
       "21      1.079365  108.317460      65.936508      19.349206   73.634921   \n",
       "22      1.555556  108.208333      63.722222      20.486111   74.486111   \n",
       "23      1.578947  111.578947      64.315789      22.368421  118.026316   \n",
       "24      1.891304  117.891304      64.956522      25.934783   88.021739   \n",
       "25      1.770833  110.083333      59.666667      23.958333   82.895833   \n",
       "26      1.969697  118.212121      64.181818      23.666667   90.878788   \n",
       "27      2.562500  115.281250      73.500000      18.375000   63.125000   \n",
       "28      3.028571  119.914286      68.314286      23.628571   94.600000   \n",
       "29      3.310345  127.379310      68.241379      21.000000   88.793103   \n",
       "30      3.619048  122.285714      64.857143      18.904762   82.666667   \n",
       "31      3.875000  126.958333      64.375000      20.000000  111.166667   \n",
       "32      4.437500  116.312500      70.062500      18.187500   35.812500   \n",
       "33      4.058824  122.882353      65.647059      21.705882   85.588235   \n",
       "34      5.857143  131.857143      74.000000      18.714286  148.071429   \n",
       "35      5.000000  121.400000      75.600000      22.600000   75.000000   \n",
       "36      5.187500  132.437500      69.125000      19.187500   65.812500   \n",
       "37      5.263158  130.157895      75.947368      18.315789   59.263158   \n",
       "38      6.875000  121.125000      71.125000      19.625000   33.500000   \n",
       "39      7.416667  126.750000      72.666667      26.083333   72.416667   \n",
       "40      6.230769  130.923077      69.230769      24.230769   72.307692   \n",
       "41      6.500000  129.090909      67.590909      17.409091   38.818182   \n",
       "42      6.888889  109.555556      73.388889      19.222222   61.277778   \n",
       "43      7.769231  133.000000      78.461538      27.846154  125.153846   \n",
       "44      7.250000  124.375000      61.750000       4.625000   32.250000   \n",
       "45      7.333333  131.200000      83.066667      20.600000   31.133333   \n",
       "46      6.384615  105.923077      76.000000      24.153846  112.307692   \n",
       "47      8.333333  137.000000      78.333333      14.500000   49.166667   \n",
       "48      8.800000  107.600000      78.400000      23.400000   52.000000   \n",
       "49      7.600000  153.000000      81.400000      21.600000   55.200000   \n",
       "50      6.750000  138.250000      78.250000      16.000000   26.375000   \n",
       "51      8.625000  147.625000      84.500000      21.875000  129.375000   \n",
       "52      4.625000  133.000000      81.500000      13.375000   94.500000   \n",
       "53      5.400000  158.000000      79.000000      21.200000  183.000000   \n",
       "54      7.000000  140.333333      89.333333       8.833333   61.000000   \n",
       "55      5.500000  140.750000      70.250000      16.250000   83.750000   \n",
       "56      8.000000   98.333333      76.333333      32.333333   69.000000   \n",
       "57      8.800000  137.800000      76.800000       9.600000   78.000000   \n",
       "58      7.142857  135.142857      78.285714      19.285714  167.857143   \n",
       "59      2.333333  173.333333      74.000000      16.666667  282.000000   \n",
       "60      6.000000  146.400000      80.000000      20.000000  164.200000   \n",
       "61      5.500000  144.000000      76.000000      16.500000   95.000000   \n",
       "62      3.750000  139.500000      71.500000      29.000000    0.000000   \n",
       "63      5.500000  133.250000      78.000000      23.500000   45.000000   \n",
       "64      8.000000  120.000000      78.000000       0.000000    0.000000   \n",
       "65      3.333333  137.000000      78.666667      12.333333    0.000000   \n",
       "66      5.000000  157.000000      86.000000       0.000000    0.000000   \n",
       "67      4.000000  132.333333      72.666667       0.000000    0.000000   \n",
       "68      8.000000   91.000000      82.000000       0.000000    0.000000   \n",
       "69      5.000000  134.000000      81.000000       0.000000    0.000000   \n",
       "70      4.000000  145.000000      82.000000      18.000000    0.000000   \n",
       "72      2.000000  119.000000       0.000000       0.000000    0.000000   \n",
       "81      9.000000  134.000000      74.000000      33.000000   60.000000   \n",
       "\n",
       "           BMI  DiabetesPedigreeFunction   Outcome  \n",
       "Age                                                 \n",
       "21   27.817460                  0.433825  0.079365  \n",
       "22   29.509722                  0.430625  0.152778  \n",
       "23   31.502632                  0.438579  0.184211  \n",
       "24   32.569565                  0.393565  0.173913  \n",
       "25   31.943750                  0.600500  0.291667  \n",
       "26   34.915152                  0.413455  0.242424  \n",
       "27   31.950000                  0.471750  0.250000  \n",
       "28   33.642857                  0.459629  0.285714  \n",
       "29   33.541379                  0.408897  0.448276  \n",
       "30   30.033333                  0.367238  0.285714  \n",
       "31   34.016667                  0.589583  0.541667  \n",
       "32   32.318750                  0.613250  0.562500  \n",
       "33   32.335294                  0.734176  0.588235  \n",
       "34   31.164286                  0.649857  0.285714  \n",
       "35   33.780000                  0.454000  0.500000  \n",
       "36   31.718750                  0.472875  0.625000  \n",
       "37   32.078947                  0.414632  0.315789  \n",
       "38   35.568750                  0.413938  0.625000  \n",
       "39   31.983333                  0.605917  0.250000  \n",
       "40   33.538462                  0.376077  0.461538  \n",
       "41   35.259091                  0.396273  0.590909  \n",
       "42   34.983333                  0.388000  0.388889  \n",
       "43   36.892308                  0.450846  0.846154  \n",
       "44   34.162500                  0.668375  0.625000  \n",
       "45   34.960000                  0.496467  0.533333  \n",
       "46   34.523077                  0.426846  0.538462  \n",
       "47   34.566667                  0.355333  0.666667  \n",
       "48   29.980000                  0.456800  0.200000  \n",
       "49   32.020000                  0.612000  0.600000  \n",
       "50   31.225000                  0.470125  0.625000  \n",
       "51   33.975000                  0.615250  0.625000  \n",
       "52   33.475000                  0.505375  0.875000  \n",
       "53   30.500000                  0.550600  0.800000  \n",
       "54   30.800000                  0.465500  0.666667  \n",
       "55   27.025000                  0.226500  0.250000  \n",
       "56   31.700000                  0.936667  0.666667  \n",
       "57   29.700000                  0.704000  0.200000  \n",
       "58   32.428571                  0.554714  0.428571  \n",
       "59   26.966667                  0.252667  0.666667  \n",
       "60   28.740000                  0.436800  0.400000  \n",
       "61   30.000000                  0.613000  0.500000  \n",
       "62   28.950000                  0.565500  0.500000  \n",
       "63   30.775000                  0.249250  0.000000  \n",
       "64   25.000000                  0.409000  0.000000  \n",
       "65   31.600000                  0.259000  0.000000  \n",
       "66   30.375000                  0.408500  0.500000  \n",
       "67   28.766667                  0.602000  0.333333  \n",
       "68   35.600000                  0.587000  0.000000  \n",
       "69   13.400000                  0.413000  0.000000  \n",
       "70   32.500000                  0.235000  1.000000  \n",
       "72   19.600000                  0.832000  0.000000  \n",
       "81   25.900000                  0.460000  0.000000  "
      ]
     },
     "execution_count": 13,
     "metadata": {},
     "output_type": "execute_result"
    }
   ],
   "source": [
    "df.groupby('Age').mean()"
   ]
  },
  {
   "cell_type": "markdown",
   "metadata": {},
   "source": [
    "Looking at the above table, it looks like older women in general have more number of pregnencies. "
   ]
  },
  {
   "cell_type": "code",
   "execution_count": 14,
   "metadata": {},
   "outputs": [
    {
     "data": {
      "text/html": [
       "<div>\n",
       "<style scoped>\n",
       "    .dataframe tbody tr th:only-of-type {\n",
       "        vertical-align: middle;\n",
       "    }\n",
       "\n",
       "    .dataframe tbody tr th {\n",
       "        vertical-align: top;\n",
       "    }\n",
       "\n",
       "    .dataframe thead th {\n",
       "        text-align: right;\n",
       "    }\n",
       "</style>\n",
       "<table border=\"1\" class=\"dataframe\">\n",
       "  <thead>\n",
       "    <tr style=\"text-align: right;\">\n",
       "      <th></th>\n",
       "      <th>Pregnancies</th>\n",
       "      <th>Glucose</th>\n",
       "      <th>SkinThickness</th>\n",
       "      <th>Insulin</th>\n",
       "      <th>BMI</th>\n",
       "      <th>DiabetesPedigreeFunction</th>\n",
       "      <th>Age</th>\n",
       "      <th>Outcome</th>\n",
       "    </tr>\n",
       "    <tr>\n",
       "      <th>BloodPressure</th>\n",
       "      <th></th>\n",
       "      <th></th>\n",
       "      <th></th>\n",
       "      <th></th>\n",
       "      <th></th>\n",
       "      <th></th>\n",
       "      <th></th>\n",
       "      <th></th>\n",
       "    </tr>\n",
       "  </thead>\n",
       "  <tbody>\n",
       "    <tr>\n",
       "      <th>0</th>\n",
       "      <td>3.628571</td>\n",
       "      <td>117.800000</td>\n",
       "      <td>1.514286</td>\n",
       "      <td>0.000000</td>\n",
       "      <td>25.705714</td>\n",
       "      <td>0.388429</td>\n",
       "      <td>30.714286</td>\n",
       "      <td>0.457143</td>\n",
       "    </tr>\n",
       "    <tr>\n",
       "      <th>24</th>\n",
       "      <td>1.000000</td>\n",
       "      <td>89.000000</td>\n",
       "      <td>19.000000</td>\n",
       "      <td>25.000000</td>\n",
       "      <td>27.800000</td>\n",
       "      <td>0.559000</td>\n",
       "      <td>21.000000</td>\n",
       "      <td>0.000000</td>\n",
       "    </tr>\n",
       "    <tr>\n",
       "      <th>30</th>\n",
       "      <td>1.000000</td>\n",
       "      <td>95.500000</td>\n",
       "      <td>40.000000</td>\n",
       "      <td>91.000000</td>\n",
       "      <td>49.150000</td>\n",
       "      <td>0.339500</td>\n",
       "      <td>29.500000</td>\n",
       "      <td>0.500000</td>\n",
       "    </tr>\n",
       "    <tr>\n",
       "      <th>38</th>\n",
       "      <td>1.000000</td>\n",
       "      <td>109.000000</td>\n",
       "      <td>18.000000</td>\n",
       "      <td>120.000000</td>\n",
       "      <td>23.100000</td>\n",
       "      <td>0.407000</td>\n",
       "      <td>26.000000</td>\n",
       "      <td>0.000000</td>\n",
       "    </tr>\n",
       "    <tr>\n",
       "      <th>40</th>\n",
       "      <td>0.000000</td>\n",
       "      <td>137.000000</td>\n",
       "      <td>35.000000</td>\n",
       "      <td>168.000000</td>\n",
       "      <td>43.100000</td>\n",
       "      <td>2.288000</td>\n",
       "      <td>33.000000</td>\n",
       "      <td>1.000000</td>\n",
       "    </tr>\n",
       "    <tr>\n",
       "      <th>44</th>\n",
       "      <td>3.250000</td>\n",
       "      <td>110.500000</td>\n",
       "      <td>25.000000</td>\n",
       "      <td>71.750000</td>\n",
       "      <td>28.175000</td>\n",
       "      <td>0.408250</td>\n",
       "      <td>27.000000</td>\n",
       "      <td>0.000000</td>\n",
       "    </tr>\n",
       "    <tr>\n",
       "      <th>46</th>\n",
       "      <td>1.500000</td>\n",
       "      <td>133.000000</td>\n",
       "      <td>20.000000</td>\n",
       "      <td>209.000000</td>\n",
       "      <td>31.550000</td>\n",
       "      <td>0.415000</td>\n",
       "      <td>22.000000</td>\n",
       "      <td>0.000000</td>\n",
       "    </tr>\n",
       "    <tr>\n",
       "      <th>48</th>\n",
       "      <td>2.000000</td>\n",
       "      <td>80.000000</td>\n",
       "      <td>23.000000</td>\n",
       "      <td>87.000000</td>\n",
       "      <td>32.280000</td>\n",
       "      <td>0.450000</td>\n",
       "      <td>23.800000</td>\n",
       "      <td>0.200000</td>\n",
       "    </tr>\n",
       "    <tr>\n",
       "      <th>50</th>\n",
       "      <td>2.461538</td>\n",
       "      <td>124.076923</td>\n",
       "      <td>22.000000</td>\n",
       "      <td>124.461538</td>\n",
       "      <td>28.846154</td>\n",
       "      <td>0.586385</td>\n",
       "      <td>29.000000</td>\n",
       "      <td>0.384615</td>\n",
       "    </tr>\n",
       "    <tr>\n",
       "      <th>52</th>\n",
       "      <td>2.454545</td>\n",
       "      <td>111.181818</td>\n",
       "      <td>16.454545</td>\n",
       "      <td>91.454545</td>\n",
       "      <td>31.627273</td>\n",
       "      <td>0.487000</td>\n",
       "      <td>25.181818</td>\n",
       "      <td>0.272727</td>\n",
       "    </tr>\n",
       "    <tr>\n",
       "      <th>54</th>\n",
       "      <td>2.727273</td>\n",
       "      <td>114.818182</td>\n",
       "      <td>16.363636</td>\n",
       "      <td>76.818182</td>\n",
       "      <td>28.318182</td>\n",
       "      <td>0.432909</td>\n",
       "      <td>29.181818</td>\n",
       "      <td>0.181818</td>\n",
       "    </tr>\n",
       "    <tr>\n",
       "      <th>55</th>\n",
       "      <td>4.500000</td>\n",
       "      <td>82.500000</td>\n",
       "      <td>10.000000</td>\n",
       "      <td>0.000000</td>\n",
       "      <td>21.750000</td>\n",
       "      <td>0.197000</td>\n",
       "      <td>31.500000</td>\n",
       "      <td>0.000000</td>\n",
       "    </tr>\n",
       "    <tr>\n",
       "      <th>56</th>\n",
       "      <td>2.333333</td>\n",
       "      <td>105.166667</td>\n",
       "      <td>20.750000</td>\n",
       "      <td>68.500000</td>\n",
       "      <td>26.941667</td>\n",
       "      <td>0.669250</td>\n",
       "      <td>26.000000</td>\n",
       "      <td>0.083333</td>\n",
       "    </tr>\n",
       "    <tr>\n",
       "      <th>58</th>\n",
       "      <td>2.333333</td>\n",
       "      <td>112.714286</td>\n",
       "      <td>23.190476</td>\n",
       "      <td>106.904762</td>\n",
       "      <td>29.000000</td>\n",
       "      <td>0.429381</td>\n",
       "      <td>25.523810</td>\n",
       "      <td>0.095238</td>\n",
       "    </tr>\n",
       "    <tr>\n",
       "      <th>60</th>\n",
       "      <td>2.648649</td>\n",
       "      <td>110.405405</td>\n",
       "      <td>20.189189</td>\n",
       "      <td>105.702703</td>\n",
       "      <td>30.051351</td>\n",
       "      <td>0.436459</td>\n",
       "      <td>29.135135</td>\n",
       "      <td>0.189189</td>\n",
       "    </tr>\n",
       "    <tr>\n",
       "      <th>61</th>\n",
       "      <td>6.000000</td>\n",
       "      <td>137.000000</td>\n",
       "      <td>0.000000</td>\n",
       "      <td>0.000000</td>\n",
       "      <td>24.200000</td>\n",
       "      <td>0.151000</td>\n",
       "      <td>55.000000</td>\n",
       "      <td>0.000000</td>\n",
       "    </tr>\n",
       "    <tr>\n",
       "      <th>62</th>\n",
       "      <td>4.000000</td>\n",
       "      <td>108.235294</td>\n",
       "      <td>16.617647</td>\n",
       "      <td>88.705882</td>\n",
       "      <td>28.161765</td>\n",
       "      <td>0.414882</td>\n",
       "      <td>28.617647</td>\n",
       "      <td>0.294118</td>\n",
       "    </tr>\n",
       "    <tr>\n",
       "      <th>64</th>\n",
       "      <td>2.418605</td>\n",
       "      <td>118.837209</td>\n",
       "      <td>23.348837</td>\n",
       "      <td>90.139535</td>\n",
       "      <td>30.876744</td>\n",
       "      <td>0.480558</td>\n",
       "      <td>26.139535</td>\n",
       "      <td>0.302326</td>\n",
       "    </tr>\n",
       "    <tr>\n",
       "      <th>65</th>\n",
       "      <td>1.714286</td>\n",
       "      <td>104.000000</td>\n",
       "      <td>14.857143</td>\n",
       "      <td>28.000000</td>\n",
       "      <td>30.685714</td>\n",
       "      <td>0.495286</td>\n",
       "      <td>26.571429</td>\n",
       "      <td>0.142857</td>\n",
       "    </tr>\n",
       "    <tr>\n",
       "      <th>66</th>\n",
       "      <td>3.066667</td>\n",
       "      <td>115.333333</td>\n",
       "      <td>22.166667</td>\n",
       "      <td>68.700000</td>\n",
       "      <td>32.120000</td>\n",
       "      <td>0.433933</td>\n",
       "      <td>29.900000</td>\n",
       "      <td>0.366667</td>\n",
       "    </tr>\n",
       "    <tr>\n",
       "      <th>68</th>\n",
       "      <td>3.488889</td>\n",
       "      <td>114.177778</td>\n",
       "      <td>23.133333</td>\n",
       "      <td>89.088889</td>\n",
       "      <td>31.382222</td>\n",
       "      <td>0.470067</td>\n",
       "      <td>31.555556</td>\n",
       "      <td>0.266667</td>\n",
       "    </tr>\n",
       "    <tr>\n",
       "      <th>70</th>\n",
       "      <td>4.087719</td>\n",
       "      <td>127.245614</td>\n",
       "      <td>24.052632</td>\n",
       "      <td>94.964912</td>\n",
       "      <td>32.328070</td>\n",
       "      <td>0.438579</td>\n",
       "      <td>31.982456</td>\n",
       "      <td>0.403509</td>\n",
       "    </tr>\n",
       "    <tr>\n",
       "      <th>72</th>\n",
       "      <td>5.318182</td>\n",
       "      <td>119.000000</td>\n",
       "      <td>21.477273</td>\n",
       "      <td>71.863636</td>\n",
       "      <td>31.177273</td>\n",
       "      <td>0.505318</td>\n",
       "      <td>37.295455</td>\n",
       "      <td>0.363636</td>\n",
       "    </tr>\n",
       "    <tr>\n",
       "      <th>74</th>\n",
       "      <td>4.384615</td>\n",
       "      <td>121.173077</td>\n",
       "      <td>19.730769</td>\n",
       "      <td>73.442308</td>\n",
       "      <td>31.130769</td>\n",
       "      <td>0.440269</td>\n",
       "      <td>35.500000</td>\n",
       "      <td>0.326923</td>\n",
       "    </tr>\n",
       "    <tr>\n",
       "      <th>75</th>\n",
       "      <td>2.625000</td>\n",
       "      <td>118.625000</td>\n",
       "      <td>13.875000</td>\n",
       "      <td>0.000000</td>\n",
       "      <td>28.850000</td>\n",
       "      <td>0.382625</td>\n",
       "      <td>33.250000</td>\n",
       "      <td>0.125000</td>\n",
       "    </tr>\n",
       "    <tr>\n",
       "      <th>76</th>\n",
       "      <td>4.256410</td>\n",
       "      <td>127.538462</td>\n",
       "      <td>20.307692</td>\n",
       "      <td>88.615385</td>\n",
       "      <td>35.215385</td>\n",
       "      <td>0.507923</td>\n",
       "      <td>35.410256</td>\n",
       "      <td>0.461538</td>\n",
       "    </tr>\n",
       "    <tr>\n",
       "      <th>78</th>\n",
       "      <td>4.888889</td>\n",
       "      <td>128.133333</td>\n",
       "      <td>23.733333</td>\n",
       "      <td>66.755556</td>\n",
       "      <td>35.133333</td>\n",
       "      <td>0.488511</td>\n",
       "      <td>39.088889</td>\n",
       "      <td>0.377778</td>\n",
       "    </tr>\n",
       "    <tr>\n",
       "      <th>80</th>\n",
       "      <td>4.225000</td>\n",
       "      <td>112.650000</td>\n",
       "      <td>19.475000</td>\n",
       "      <td>62.925000</td>\n",
       "      <td>32.840000</td>\n",
       "      <td>0.470625</td>\n",
       "      <td>35.650000</td>\n",
       "      <td>0.325000</td>\n",
       "    </tr>\n",
       "    <tr>\n",
       "      <th>82</th>\n",
       "      <td>3.933333</td>\n",
       "      <td>124.966667</td>\n",
       "      <td>23.400000</td>\n",
       "      <td>109.900000</td>\n",
       "      <td>33.780000</td>\n",
       "      <td>0.562533</td>\n",
       "      <td>39.466667</td>\n",
       "      <td>0.433333</td>\n",
       "    </tr>\n",
       "    <tr>\n",
       "      <th>84</th>\n",
       "      <td>5.391304</td>\n",
       "      <td>141.478261</td>\n",
       "      <td>23.565217</td>\n",
       "      <td>118.956522</td>\n",
       "      <td>34.895652</td>\n",
       "      <td>0.508217</td>\n",
       "      <td>38.565217</td>\n",
       "      <td>0.521739</td>\n",
       "    </tr>\n",
       "    <tr>\n",
       "      <th>85</th>\n",
       "      <td>5.833333</td>\n",
       "      <td>133.666667</td>\n",
       "      <td>31.000000</td>\n",
       "      <td>22.666667</td>\n",
       "      <td>35.233333</td>\n",
       "      <td>0.515500</td>\n",
       "      <td>36.833333</td>\n",
       "      <td>0.500000</td>\n",
       "    </tr>\n",
       "    <tr>\n",
       "      <th>86</th>\n",
       "      <td>4.238095</td>\n",
       "      <td>124.571429</td>\n",
       "      <td>19.904762</td>\n",
       "      <td>86.047619</td>\n",
       "      <td>34.214286</td>\n",
       "      <td>0.491524</td>\n",
       "      <td>34.190476</td>\n",
       "      <td>0.428571</td>\n",
       "    </tr>\n",
       "    <tr>\n",
       "      <th>88</th>\n",
       "      <td>3.680000</td>\n",
       "      <td>132.680000</td>\n",
       "      <td>27.840000</td>\n",
       "      <td>101.520000</td>\n",
       "      <td>36.344000</td>\n",
       "      <td>0.571080</td>\n",
       "      <td>35.440000</td>\n",
       "      <td>0.440000</td>\n",
       "    </tr>\n",
       "    <tr>\n",
       "      <th>90</th>\n",
       "      <td>4.545455</td>\n",
       "      <td>140.636364</td>\n",
       "      <td>23.545455</td>\n",
       "      <td>116.136364</td>\n",
       "      <td>34.909091</td>\n",
       "      <td>0.423545</td>\n",
       "      <td>38.136364</td>\n",
       "      <td>0.500000</td>\n",
       "    </tr>\n",
       "    <tr>\n",
       "      <th>92</th>\n",
       "      <td>4.625000</td>\n",
       "      <td>124.875000</td>\n",
       "      <td>8.375000</td>\n",
       "      <td>19.375000</td>\n",
       "      <td>32.512500</td>\n",
       "      <td>0.447625</td>\n",
       "      <td>44.625000</td>\n",
       "      <td>0.375000</td>\n",
       "    </tr>\n",
       "    <tr>\n",
       "      <th>94</th>\n",
       "      <td>4.666667</td>\n",
       "      <td>143.166667</td>\n",
       "      <td>20.000000</td>\n",
       "      <td>48.500000</td>\n",
       "      <td>38.800000</td>\n",
       "      <td>0.559333</td>\n",
       "      <td>39.833333</td>\n",
       "      <td>0.500000</td>\n",
       "    </tr>\n",
       "    <tr>\n",
       "      <th>95</th>\n",
       "      <td>7.000000</td>\n",
       "      <td>179.000000</td>\n",
       "      <td>31.000000</td>\n",
       "      <td>0.000000</td>\n",
       "      <td>34.200000</td>\n",
       "      <td>0.164000</td>\n",
       "      <td>60.000000</td>\n",
       "      <td>0.000000</td>\n",
       "    </tr>\n",
       "    <tr>\n",
       "      <th>96</th>\n",
       "      <td>4.000000</td>\n",
       "      <td>124.250000</td>\n",
       "      <td>0.000000</td>\n",
       "      <td>0.000000</td>\n",
       "      <td>18.450000</td>\n",
       "      <td>0.229750</td>\n",
       "      <td>31.500000</td>\n",
       "      <td>0.250000</td>\n",
       "    </tr>\n",
       "    <tr>\n",
       "      <th>98</th>\n",
       "      <td>5.333333</td>\n",
       "      <td>119.333333</td>\n",
       "      <td>13.666667</td>\n",
       "      <td>19.333333</td>\n",
       "      <td>36.300000</td>\n",
       "      <td>0.850667</td>\n",
       "      <td>31.666667</td>\n",
       "      <td>0.666667</td>\n",
       "    </tr>\n",
       "    <tr>\n",
       "      <th>100</th>\n",
       "      <td>3.666667</td>\n",
       "      <td>107.000000</td>\n",
       "      <td>36.666667</td>\n",
       "      <td>104.000000</td>\n",
       "      <td>48.000000</td>\n",
       "      <td>0.713333</td>\n",
       "      <td>34.000000</td>\n",
       "      <td>0.333333</td>\n",
       "    </tr>\n",
       "    <tr>\n",
       "      <th>102</th>\n",
       "      <td>1.000000</td>\n",
       "      <td>133.000000</td>\n",
       "      <td>28.000000</td>\n",
       "      <td>140.000000</td>\n",
       "      <td>32.800000</td>\n",
       "      <td>0.234000</td>\n",
       "      <td>45.000000</td>\n",
       "      <td>1.000000</td>\n",
       "    </tr>\n",
       "    <tr>\n",
       "      <th>104</th>\n",
       "      <td>2.500000</td>\n",
       "      <td>175.500000</td>\n",
       "      <td>12.500000</td>\n",
       "      <td>0.000000</td>\n",
       "      <td>36.000000</td>\n",
       "      <td>0.293000</td>\n",
       "      <td>46.500000</td>\n",
       "      <td>1.000000</td>\n",
       "    </tr>\n",
       "    <tr>\n",
       "      <th>106</th>\n",
       "      <td>9.666667</td>\n",
       "      <td>120.666667</td>\n",
       "      <td>23.000000</td>\n",
       "      <td>93.333333</td>\n",
       "      <td>37.366667</td>\n",
       "      <td>0.213333</td>\n",
       "      <td>47.000000</td>\n",
       "      <td>0.333333</td>\n",
       "    </tr>\n",
       "    <tr>\n",
       "      <th>108</th>\n",
       "      <td>5.000000</td>\n",
       "      <td>120.000000</td>\n",
       "      <td>18.500000</td>\n",
       "      <td>0.000000</td>\n",
       "      <td>44.000000</td>\n",
       "      <td>0.266000</td>\n",
       "      <td>51.000000</td>\n",
       "      <td>0.500000</td>\n",
       "    </tr>\n",
       "    <tr>\n",
       "      <th>110</th>\n",
       "      <td>4.333333</td>\n",
       "      <td>163.000000</td>\n",
       "      <td>33.666667</td>\n",
       "      <td>123.333333</td>\n",
       "      <td>47.000000</td>\n",
       "      <td>0.573333</td>\n",
       "      <td>39.000000</td>\n",
       "      <td>0.666667</td>\n",
       "    </tr>\n",
       "    <tr>\n",
       "      <th>114</th>\n",
       "      <td>13.000000</td>\n",
       "      <td>158.000000</td>\n",
       "      <td>0.000000</td>\n",
       "      <td>0.000000</td>\n",
       "      <td>42.300000</td>\n",
       "      <td>0.257000</td>\n",
       "      <td>44.000000</td>\n",
       "      <td>1.000000</td>\n",
       "    </tr>\n",
       "    <tr>\n",
       "      <th>122</th>\n",
       "      <td>1.000000</td>\n",
       "      <td>96.000000</td>\n",
       "      <td>0.000000</td>\n",
       "      <td>0.000000</td>\n",
       "      <td>22.400000</td>\n",
       "      <td>0.207000</td>\n",
       "      <td>27.000000</td>\n",
       "      <td>0.000000</td>\n",
       "    </tr>\n",
       "  </tbody>\n",
       "</table>\n",
       "</div>"
      ],
      "text/plain": [
       "               Pregnancies     Glucose  SkinThickness     Insulin        BMI  \\\n",
       "BloodPressure                                                                  \n",
       "0                 3.628571  117.800000       1.514286    0.000000  25.705714   \n",
       "24                1.000000   89.000000      19.000000   25.000000  27.800000   \n",
       "30                1.000000   95.500000      40.000000   91.000000  49.150000   \n",
       "38                1.000000  109.000000      18.000000  120.000000  23.100000   \n",
       "40                0.000000  137.000000      35.000000  168.000000  43.100000   \n",
       "44                3.250000  110.500000      25.000000   71.750000  28.175000   \n",
       "46                1.500000  133.000000      20.000000  209.000000  31.550000   \n",
       "48                2.000000   80.000000      23.000000   87.000000  32.280000   \n",
       "50                2.461538  124.076923      22.000000  124.461538  28.846154   \n",
       "52                2.454545  111.181818      16.454545   91.454545  31.627273   \n",
       "54                2.727273  114.818182      16.363636   76.818182  28.318182   \n",
       "55                4.500000   82.500000      10.000000    0.000000  21.750000   \n",
       "56                2.333333  105.166667      20.750000   68.500000  26.941667   \n",
       "58                2.333333  112.714286      23.190476  106.904762  29.000000   \n",
       "60                2.648649  110.405405      20.189189  105.702703  30.051351   \n",
       "61                6.000000  137.000000       0.000000    0.000000  24.200000   \n",
       "62                4.000000  108.235294      16.617647   88.705882  28.161765   \n",
       "64                2.418605  118.837209      23.348837   90.139535  30.876744   \n",
       "65                1.714286  104.000000      14.857143   28.000000  30.685714   \n",
       "66                3.066667  115.333333      22.166667   68.700000  32.120000   \n",
       "68                3.488889  114.177778      23.133333   89.088889  31.382222   \n",
       "70                4.087719  127.245614      24.052632   94.964912  32.328070   \n",
       "72                5.318182  119.000000      21.477273   71.863636  31.177273   \n",
       "74                4.384615  121.173077      19.730769   73.442308  31.130769   \n",
       "75                2.625000  118.625000      13.875000    0.000000  28.850000   \n",
       "76                4.256410  127.538462      20.307692   88.615385  35.215385   \n",
       "78                4.888889  128.133333      23.733333   66.755556  35.133333   \n",
       "80                4.225000  112.650000      19.475000   62.925000  32.840000   \n",
       "82                3.933333  124.966667      23.400000  109.900000  33.780000   \n",
       "84                5.391304  141.478261      23.565217  118.956522  34.895652   \n",
       "85                5.833333  133.666667      31.000000   22.666667  35.233333   \n",
       "86                4.238095  124.571429      19.904762   86.047619  34.214286   \n",
       "88                3.680000  132.680000      27.840000  101.520000  36.344000   \n",
       "90                4.545455  140.636364      23.545455  116.136364  34.909091   \n",
       "92                4.625000  124.875000       8.375000   19.375000  32.512500   \n",
       "94                4.666667  143.166667      20.000000   48.500000  38.800000   \n",
       "95                7.000000  179.000000      31.000000    0.000000  34.200000   \n",
       "96                4.000000  124.250000       0.000000    0.000000  18.450000   \n",
       "98                5.333333  119.333333      13.666667   19.333333  36.300000   \n",
       "100               3.666667  107.000000      36.666667  104.000000  48.000000   \n",
       "102               1.000000  133.000000      28.000000  140.000000  32.800000   \n",
       "104               2.500000  175.500000      12.500000    0.000000  36.000000   \n",
       "106               9.666667  120.666667      23.000000   93.333333  37.366667   \n",
       "108               5.000000  120.000000      18.500000    0.000000  44.000000   \n",
       "110               4.333333  163.000000      33.666667  123.333333  47.000000   \n",
       "114              13.000000  158.000000       0.000000    0.000000  42.300000   \n",
       "122               1.000000   96.000000       0.000000    0.000000  22.400000   \n",
       "\n",
       "               DiabetesPedigreeFunction        Age   Outcome  \n",
       "BloodPressure                                                 \n",
       "0                              0.388429  30.714286  0.457143  \n",
       "24                             0.559000  21.000000  0.000000  \n",
       "30                             0.339500  29.500000  0.500000  \n",
       "38                             0.407000  26.000000  0.000000  \n",
       "40                             2.288000  33.000000  1.000000  \n",
       "44                             0.408250  27.000000  0.000000  \n",
       "46                             0.415000  22.000000  0.000000  \n",
       "48                             0.450000  23.800000  0.200000  \n",
       "50                             0.586385  29.000000  0.384615  \n",
       "52                             0.487000  25.181818  0.272727  \n",
       "54                             0.432909  29.181818  0.181818  \n",
       "55                             0.197000  31.500000  0.000000  \n",
       "56                             0.669250  26.000000  0.083333  \n",
       "58                             0.429381  25.523810  0.095238  \n",
       "60                             0.436459  29.135135  0.189189  \n",
       "61                             0.151000  55.000000  0.000000  \n",
       "62                             0.414882  28.617647  0.294118  \n",
       "64                             0.480558  26.139535  0.302326  \n",
       "65                             0.495286  26.571429  0.142857  \n",
       "66                             0.433933  29.900000  0.366667  \n",
       "68                             0.470067  31.555556  0.266667  \n",
       "70                             0.438579  31.982456  0.403509  \n",
       "72                             0.505318  37.295455  0.363636  \n",
       "74                             0.440269  35.500000  0.326923  \n",
       "75                             0.382625  33.250000  0.125000  \n",
       "76                             0.507923  35.410256  0.461538  \n",
       "78                             0.488511  39.088889  0.377778  \n",
       "80                             0.470625  35.650000  0.325000  \n",
       "82                             0.562533  39.466667  0.433333  \n",
       "84                             0.508217  38.565217  0.521739  \n",
       "85                             0.515500  36.833333  0.500000  \n",
       "86                             0.491524  34.190476  0.428571  \n",
       "88                             0.571080  35.440000  0.440000  \n",
       "90                             0.423545  38.136364  0.500000  \n",
       "92                             0.447625  44.625000  0.375000  \n",
       "94                             0.559333  39.833333  0.500000  \n",
       "95                             0.164000  60.000000  0.000000  \n",
       "96                             0.229750  31.500000  0.250000  \n",
       "98                             0.850667  31.666667  0.666667  \n",
       "100                            0.713333  34.000000  0.333333  \n",
       "102                            0.234000  45.000000  1.000000  \n",
       "104                            0.293000  46.500000  1.000000  \n",
       "106                            0.213333  47.000000  0.333333  \n",
       "108                            0.266000  51.000000  0.500000  \n",
       "110                            0.573333  39.000000  0.666667  \n",
       "114                            0.257000  44.000000  1.000000  \n",
       "122                            0.207000  27.000000  0.000000  "
      ]
     },
     "execution_count": 14,
     "metadata": {},
     "output_type": "execute_result"
    }
   ],
   "source": [
    "df.groupby('BloodPressure').mean()"
   ]
  },
  {
   "cell_type": "code",
   "execution_count": 15,
   "metadata": {},
   "outputs": [
    {
     "data": {
      "text/html": [
       "<div>\n",
       "<style scoped>\n",
       "    .dataframe tbody tr th:only-of-type {\n",
       "        vertical-align: middle;\n",
       "    }\n",
       "\n",
       "    .dataframe tbody tr th {\n",
       "        vertical-align: top;\n",
       "    }\n",
       "\n",
       "    .dataframe thead th {\n",
       "        text-align: right;\n",
       "    }\n",
       "</style>\n",
       "<table border=\"1\" class=\"dataframe\">\n",
       "  <thead>\n",
       "    <tr style=\"text-align: right;\">\n",
       "      <th></th>\n",
       "      <th>Pregnancies</th>\n",
       "      <th>Glucose</th>\n",
       "      <th>BloodPressure</th>\n",
       "      <th>SkinThickness</th>\n",
       "      <th>Insulin</th>\n",
       "      <th>DiabetesPedigreeFunction</th>\n",
       "      <th>Age</th>\n",
       "      <th>Outcome</th>\n",
       "    </tr>\n",
       "    <tr>\n",
       "      <th>BMI</th>\n",
       "      <th></th>\n",
       "      <th></th>\n",
       "      <th></th>\n",
       "      <th></th>\n",
       "      <th></th>\n",
       "      <th></th>\n",
       "      <th></th>\n",
       "      <th></th>\n",
       "    </tr>\n",
       "  </thead>\n",
       "  <tbody>\n",
       "    <tr>\n",
       "      <th>0.0</th>\n",
       "      <td>3.909091</td>\n",
       "      <td>104.272727</td>\n",
       "      <td>28.818182</td>\n",
       "      <td>4.181818</td>\n",
       "      <td>8.090909</td>\n",
       "      <td>0.433273</td>\n",
       "      <td>30.454545</td>\n",
       "      <td>0.181818</td>\n",
       "    </tr>\n",
       "    <tr>\n",
       "      <th>18.2</th>\n",
       "      <td>1.000000</td>\n",
       "      <td>92.333333</td>\n",
       "      <td>67.333333</td>\n",
       "      <td>11.333333</td>\n",
       "      <td>27.333333</td>\n",
       "      <td>0.356667</td>\n",
       "      <td>23.000000</td>\n",
       "      <td>0.000000</td>\n",
       "    </tr>\n",
       "    <tr>\n",
       "      <th>18.4</th>\n",
       "      <td>0.000000</td>\n",
       "      <td>104.000000</td>\n",
       "      <td>76.000000</td>\n",
       "      <td>0.000000</td>\n",
       "      <td>0.000000</td>\n",
       "      <td>0.582000</td>\n",
       "      <td>27.000000</td>\n",
       "      <td>0.000000</td>\n",
       "    </tr>\n",
       "    <tr>\n",
       "      <th>19.1</th>\n",
       "      <td>1.000000</td>\n",
       "      <td>80.000000</td>\n",
       "      <td>55.000000</td>\n",
       "      <td>0.000000</td>\n",
       "      <td>0.000000</td>\n",
       "      <td>0.258000</td>\n",
       "      <td>21.000000</td>\n",
       "      <td>0.000000</td>\n",
       "    </tr>\n",
       "    <tr>\n",
       "      <th>19.3</th>\n",
       "      <td>3.000000</td>\n",
       "      <td>99.000000</td>\n",
       "      <td>80.000000</td>\n",
       "      <td>11.000000</td>\n",
       "      <td>64.000000</td>\n",
       "      <td>0.284000</td>\n",
       "      <td>30.000000</td>\n",
       "      <td>0.000000</td>\n",
       "    </tr>\n",
       "    <tr>\n",
       "      <th>...</th>\n",
       "      <td>...</td>\n",
       "      <td>...</td>\n",
       "      <td>...</td>\n",
       "      <td>...</td>\n",
       "      <td>...</td>\n",
       "      <td>...</td>\n",
       "      <td>...</td>\n",
       "      <td>...</td>\n",
       "    </tr>\n",
       "    <tr>\n",
       "      <th>53.2</th>\n",
       "      <td>0.000000</td>\n",
       "      <td>162.000000</td>\n",
       "      <td>76.000000</td>\n",
       "      <td>56.000000</td>\n",
       "      <td>100.000000</td>\n",
       "      <td>0.759000</td>\n",
       "      <td>25.000000</td>\n",
       "      <td>1.000000</td>\n",
       "    </tr>\n",
       "    <tr>\n",
       "      <th>55.0</th>\n",
       "      <td>1.000000</td>\n",
       "      <td>88.000000</td>\n",
       "      <td>30.000000</td>\n",
       "      <td>42.000000</td>\n",
       "      <td>99.000000</td>\n",
       "      <td>0.496000</td>\n",
       "      <td>26.000000</td>\n",
       "      <td>1.000000</td>\n",
       "    </tr>\n",
       "    <tr>\n",
       "      <th>57.3</th>\n",
       "      <td>3.000000</td>\n",
       "      <td>123.000000</td>\n",
       "      <td>100.000000</td>\n",
       "      <td>35.000000</td>\n",
       "      <td>240.000000</td>\n",
       "      <td>0.880000</td>\n",
       "      <td>22.000000</td>\n",
       "      <td>0.000000</td>\n",
       "    </tr>\n",
       "    <tr>\n",
       "      <th>59.4</th>\n",
       "      <td>0.000000</td>\n",
       "      <td>180.000000</td>\n",
       "      <td>78.000000</td>\n",
       "      <td>63.000000</td>\n",
       "      <td>14.000000</td>\n",
       "      <td>2.420000</td>\n",
       "      <td>25.000000</td>\n",
       "      <td>1.000000</td>\n",
       "    </tr>\n",
       "    <tr>\n",
       "      <th>67.1</th>\n",
       "      <td>0.000000</td>\n",
       "      <td>129.000000</td>\n",
       "      <td>110.000000</td>\n",
       "      <td>46.000000</td>\n",
       "      <td>130.000000</td>\n",
       "      <td>0.319000</td>\n",
       "      <td>26.000000</td>\n",
       "      <td>1.000000</td>\n",
       "    </tr>\n",
       "  </tbody>\n",
       "</table>\n",
       "<p>248 rows × 8 columns</p>\n",
       "</div>"
      ],
      "text/plain": [
       "      Pregnancies     Glucose  BloodPressure  SkinThickness     Insulin  \\\n",
       "BMI                                                                       \n",
       "0.0      3.909091  104.272727      28.818182       4.181818    8.090909   \n",
       "18.2     1.000000   92.333333      67.333333      11.333333   27.333333   \n",
       "18.4     0.000000  104.000000      76.000000       0.000000    0.000000   \n",
       "19.1     1.000000   80.000000      55.000000       0.000000    0.000000   \n",
       "19.3     3.000000   99.000000      80.000000      11.000000   64.000000   \n",
       "...           ...         ...            ...            ...         ...   \n",
       "53.2     0.000000  162.000000      76.000000      56.000000  100.000000   \n",
       "55.0     1.000000   88.000000      30.000000      42.000000   99.000000   \n",
       "57.3     3.000000  123.000000     100.000000      35.000000  240.000000   \n",
       "59.4     0.000000  180.000000      78.000000      63.000000   14.000000   \n",
       "67.1     0.000000  129.000000     110.000000      46.000000  130.000000   \n",
       "\n",
       "      DiabetesPedigreeFunction        Age   Outcome  \n",
       "BMI                                                  \n",
       "0.0                   0.433273  30.454545  0.181818  \n",
       "18.2                  0.356667  23.000000  0.000000  \n",
       "18.4                  0.582000  27.000000  0.000000  \n",
       "19.1                  0.258000  21.000000  0.000000  \n",
       "19.3                  0.284000  30.000000  0.000000  \n",
       "...                        ...        ...       ...  \n",
       "53.2                  0.759000  25.000000  1.000000  \n",
       "55.0                  0.496000  26.000000  1.000000  \n",
       "57.3                  0.880000  22.000000  0.000000  \n",
       "59.4                  2.420000  25.000000  1.000000  \n",
       "67.1                  0.319000  26.000000  1.000000  \n",
       "\n",
       "[248 rows x 8 columns]"
      ]
     },
     "execution_count": 15,
     "metadata": {},
     "output_type": "execute_result"
    }
   ],
   "source": [
    "df.groupby('BMI').mean()"
   ]
  },
  {
   "cell_type": "markdown",
   "metadata": {},
   "source": [
    "From the above 10 rows, it seems that higher the BMI, higher the Glucose level, also higher SkinThickness. If we look at the output column, it is seen that individuals with highest five BMI all have Outcome \"1\", which means they have diabetes. It can be said that BMI is highly corelated to diabetes. "
   ]
  },
  {
   "cell_type": "markdown",
   "metadata": {},
   "source": [
    "#### Using Matplotlib and Seaborn to make scatterplot "
   ]
  },
  {
   "cell_type": "code",
   "execution_count": 16,
   "metadata": {},
   "outputs": [
    {
     "data": {
      "image/png": "[encoded data removed]",
      "text/plain": [
       "<Figure size 432x288 with 1 Axes>"
      ]
     },
     "metadata": {
      "needs_background": "light"
     },
     "output_type": "display_data"
    }
   ],
   "source": [
    "plt.scatter( df['BMI'], df['BloodPressure'],)\n",
    "plt.show()"
   ]
  },
  {
   "cell_type": "code",
   "execution_count": 17,
   "metadata": {},
   "outputs": [
    {
     "data": {
      "text/plain": [
       "<AxesSubplot:xlabel='BMI', ylabel='BloodPressure'>"
      ]
     },
     "execution_count": 17,
     "metadata": {},
     "output_type": "execute_result"
    },
    {
     "data": {
      "image/png": "[encoded data removed]",
      "text/plain": [
       "<Figure size 432x288 with 1 Axes>"
      ]
     },
     "metadata": {
      "needs_background": "light"
     },
     "output_type": "display_data"
    }
   ],
   "source": [
    "sns.scatterplot(x='BMI', y='BloodPressure', data=df)"
   ]
  },
  {
   "cell_type": "markdown",
   "metadata": {},
   "source": [
    "The scatterplot shows that the variables BMI and BloodPressure are not much corelated. The data also have a lot of outliers."
   ]
  },
  {
   "cell_type": "markdown",
   "metadata": {},
   "source": [
    "#### Boxplot to show relationship between two variables"
   ]
  },
  {
   "cell_type": "code",
   "execution_count": 18,
   "metadata": {},
   "outputs": [
    {
     "data": {
      "text/plain": [
       "<AxesSubplot:xlabel='Outcome', ylabel='Glucose'>"
      ]
     },
     "execution_count": 18,
     "metadata": {},
     "output_type": "execute_result"
    },
    {
     "data": {
      "image/png": "[encoded data removed]",
      "text/plain": [
       "<Figure size 432x288 with 1 Axes>"
      ]
     },
     "metadata": {
      "needs_background": "light"
     },
     "output_type": "display_data"
    }
   ],
   "source": [
    "# sns.scatterplot(x='Outcome', y='Glucose', data=df)\n",
    "\n",
    "sns.boxplot(data=df, y = 'Glucose', x = 'Outcome')"
   ]
  },
  {
   "cell_type": "markdown",
   "metadata": {},
   "source": [
    "The individual womens with higher Glucose lever are more likely to have diabetes. "
   ]
  },
  {
   "cell_type": "code",
   "execution_count": 19,
   "metadata": {},
   "outputs": [
    {
     "data": {
      "text/plain": [
       "<AxesSubplot:xlabel='Outcome', ylabel='BloodPressure'>"
      ]
     },
     "execution_count": 19,
     "metadata": {},
     "output_type": "execute_result"
    },
    {
     "data": {
      "image/png": "[encoded data removed]",
      "text/plain": [
       "<Figure size 432x288 with 1 Axes>"
      ]
     },
     "metadata": {
      "needs_background": "light"
     },
     "output_type": "display_data"
    }
   ],
   "source": [
    "sns.boxplot(data=df, y = 'BloodPressure', x = 'Outcome')"
   ]
  },
  {
   "cell_type": "markdown",
   "metadata": {},
   "source": [
    "As per this diagram, blood pressure have a little to do with diabetes."
   ]
  },
  {
   "cell_type": "code",
   "execution_count": 20,
   "metadata": {},
   "outputs": [
    {
     "data": {
      "text/plain": [
       "<AxesSubplot:xlabel='Outcome', ylabel='BMI'>"
      ]
     },
     "execution_count": 20,
     "metadata": {},
     "output_type": "execute_result"
    },
    {
     "data": {
      "image/png": "[encoded data removed]",
      "text/plain": [
       "<Figure size 432x288 with 1 Axes>"
      ]
     },
     "metadata": {
      "needs_background": "light"
     },
     "output_type": "display_data"
    }
   ],
   "source": [
    "sns.boxplot(data=df, y = 'BMI', x = 'Outcome')"
   ]
  },
  {
   "cell_type": "markdown",
   "metadata": {},
   "source": [
    "Higher BMI has slight chance of having diabetes. "
   ]
  },
  {
   "cell_type": "code",
   "execution_count": 21,
   "metadata": {},
   "outputs": [
    {
     "data": {
      "text/plain": [
       "<AxesSubplot:xlabel='Outcome', ylabel='Pregnancies'>"
      ]
     },
     "execution_count": 21,
     "metadata": {},
     "output_type": "execute_result"
    },
    {
     "data": {
      "image/png": "[encoded data removed]",
      "text/plain": [
       "<Figure size 432x432 with 1 Axes>"
      ]
     },
     "metadata": {
      "needs_background": "light"
     },
     "output_type": "display_data"
    }
   ],
   "source": [
    "plt.figure(figsize=(6,6))\n",
    "sns.boxplot(data=df, y = 'Pregnancies', x = 'Outcome')"
   ]
  },
  {
   "cell_type": "markdown",
   "metadata": {},
   "source": [
    "The above box plot shows that women with higher number of pregnancies have slightly high rate of having diabetes. "
   ]
  },
  {
   "cell_type": "markdown",
   "metadata": {},
   "source": [
    "### Handling outliers"
   ]
  },
  {
   "cell_type": "markdown",
   "metadata": {},
   "source": [
    "As I have pointed out earlier, there are few attributes that have zero values where it does not make sense having zero values. We will try to analyze them and deal with them as necessary. "
   ]
  },
  {
   "cell_type": "code",
   "execution_count": 134,
   "metadata": {},
   "outputs": [
    {
     "data": {
      "text/plain": [
       "Pregnancies                 0\n",
       "Glucose                     0\n",
       "BloodPressure               0\n",
       "SkinThickness               0\n",
       "Insulin                     0\n",
       "BMI                         0\n",
       "DiabetesPedigreeFunction    0\n",
       "Age                         0\n",
       "Outcome                     0\n",
       "dtype: int64"
      ]
     },
     "execution_count": 134,
     "metadata": {},
     "output_type": "execute_result"
    }
   ],
   "source": [
    "df.isna().sum()"
   ]
  },
  {
   "cell_type": "code",
   "execution_count": 186,
   "metadata": {},
   "outputs": [],
   "source": [
    "# copy df to new df\n",
    "new_df = df.copy()\n",
    "\n",
    "#let the Outcome column be categorical\n",
    "# new_df['Outcome'] = pd.Categorical(new_df.Outcome)"
   ]
  },
  {
   "cell_type": "code",
   "execution_count": 188,
   "metadata": {},
   "outputs": [
    {
     "data": {
      "text/plain": [
       "Pregnancies                   int64\n",
       "Glucose                       int64\n",
       "BloodPressure                 int64\n",
       "SkinThickness                 int64\n",
       "Insulin                       int64\n",
       "BMI                         float64\n",
       "DiabetesPedigreeFunction    float64\n",
       "Age                           int64\n",
       "Outcome                       int64\n",
       "dtype: object"
      ]
     },
     "execution_count": 188,
     "metadata": {},
     "output_type": "execute_result"
    }
   ],
   "source": [
    "new_df.dtypes"
   ]
  },
  {
   "cell_type": "markdown",
   "metadata": {},
   "source": [
    "#### Glucose:"
   ]
  },
  {
   "cell_type": "markdown",
   "metadata": {},
   "source": [
    "The glucose level being zero is highly unlikely, 155 mg/dl or lower glucose level is preferred however it cannot be as low as zero. We will find out how many such values are there and deal with them."
   ]
  },
  {
   "cell_type": "code",
   "execution_count": 187,
   "metadata": {},
   "outputs": [
    {
     "name": "stdout",
     "output_type": "stream",
     "text": [
      "5\n"
     ]
    },
    {
     "data": {
      "text/html": [
       "<div>\n",
       "<style scoped>\n",
       "    .dataframe tbody tr th:only-of-type {\n",
       "        vertical-align: middle;\n",
       "    }\n",
       "\n",
       "    .dataframe tbody tr th {\n",
       "        vertical-align: top;\n",
       "    }\n",
       "\n",
       "    .dataframe thead th {\n",
       "        text-align: right;\n",
       "    }\n",
       "</style>\n",
       "<table border=\"1\" class=\"dataframe\">\n",
       "  <thead>\n",
       "    <tr style=\"text-align: right;\">\n",
       "      <th></th>\n",
       "      <th>Pregnancies</th>\n",
       "      <th>Glucose</th>\n",
       "      <th>BloodPressure</th>\n",
       "      <th>SkinThickness</th>\n",
       "      <th>Insulin</th>\n",
       "      <th>BMI</th>\n",
       "      <th>DiabetesPedigreeFunction</th>\n",
       "      <th>Age</th>\n",
       "      <th>Outcome</th>\n",
       "    </tr>\n",
       "  </thead>\n",
       "  <tbody>\n",
       "    <tr>\n",
       "      <th>76</th>\n",
       "      <td>1</td>\n",
       "      <td>0</td>\n",
       "      <td>48</td>\n",
       "      <td>20</td>\n",
       "      <td>0</td>\n",
       "      <td>24.7</td>\n",
       "      <td>0.140</td>\n",
       "      <td>22</td>\n",
       "      <td>0</td>\n",
       "    </tr>\n",
       "    <tr>\n",
       "      <th>183</th>\n",
       "      <td>1</td>\n",
       "      <td>0</td>\n",
       "      <td>74</td>\n",
       "      <td>20</td>\n",
       "      <td>23</td>\n",
       "      <td>27.7</td>\n",
       "      <td>0.299</td>\n",
       "      <td>21</td>\n",
       "      <td>0</td>\n",
       "    </tr>\n",
       "    <tr>\n",
       "      <th>343</th>\n",
       "      <td>1</td>\n",
       "      <td>0</td>\n",
       "      <td>68</td>\n",
       "      <td>35</td>\n",
       "      <td>0</td>\n",
       "      <td>32.0</td>\n",
       "      <td>0.389</td>\n",
       "      <td>22</td>\n",
       "      <td>0</td>\n",
       "    </tr>\n",
       "    <tr>\n",
       "      <th>350</th>\n",
       "      <td>5</td>\n",
       "      <td>0</td>\n",
       "      <td>80</td>\n",
       "      <td>32</td>\n",
       "      <td>0</td>\n",
       "      <td>41.0</td>\n",
       "      <td>0.346</td>\n",
       "      <td>37</td>\n",
       "      <td>1</td>\n",
       "    </tr>\n",
       "    <tr>\n",
       "      <th>503</th>\n",
       "      <td>6</td>\n",
       "      <td>0</td>\n",
       "      <td>68</td>\n",
       "      <td>41</td>\n",
       "      <td>0</td>\n",
       "      <td>39.0</td>\n",
       "      <td>0.727</td>\n",
       "      <td>41</td>\n",
       "      <td>1</td>\n",
       "    </tr>\n",
       "  </tbody>\n",
       "</table>\n",
       "</div>"
      ],
      "text/plain": [
       "     Pregnancies  Glucose  BloodPressure  SkinThickness  Insulin   BMI  \\\n",
       "76             1        0             48             20        0  24.7   \n",
       "183            1        0             74             20       23  27.7   \n",
       "343            1        0             68             35        0  32.0   \n",
       "350            5        0             80             32        0  41.0   \n",
       "503            6        0             68             41        0  39.0   \n",
       "\n",
       "     DiabetesPedigreeFunction  Age  Outcome  \n",
       "76                      0.140   22        0  \n",
       "183                     0.299   21        0  \n",
       "343                     0.389   22        0  \n",
       "350                     0.346   37        1  \n",
       "503                     0.727   41        1  "
      ]
     },
     "execution_count": 187,
     "metadata": {},
     "output_type": "execute_result"
    }
   ],
   "source": [
    "# find out how many rows have blood pressure 0\n",
    "print(new_df[new_df.Glucose == 0].shape[0])\n",
    "\n",
    "# #find out which age group has missing Glucose dta\n",
    "# print(df[df.Glucose == 0].groupby('Age') ['Glucose'].count())\n",
    "\n",
    "# locating the index of '0' character \n",
    "new_df.loc[new_df['Glucose']== 0]"
   ]
  },
  {
   "cell_type": "markdown",
   "metadata": {},
   "source": [
    "We can see that most of the womens whose blood pressure data is missing do not have diabetes. Which is why replacing their glucose level with median value will not change the course of our data. Also, because rest of the attributes have valuable information, it is a good idea to replace zzero with median."
   ]
  },
  {
   "cell_type": "code",
   "execution_count": 189,
   "metadata": {},
   "outputs": [],
   "source": [
    "# replacing glucose 0 values with median\n",
    "median_val = new_df['Glucose'].median(skipna=True)\n",
    "\n",
    "new_df['Glucose'] = new_df.Glucose.mask(new_df.Glucose == 0, median_val )\n",
    "\n",
    "# or use following will also do the job\n",
    "# new_df.Glucose.loc[new_df.Glucose == 0, 'Glucose'] = median_val\n"
   ]
  },
  {
   "cell_type": "code",
   "execution_count": 190,
   "metadata": {},
   "outputs": [
    {
     "data": {
      "text/html": [
       "<div>\n",
       "<style scoped>\n",
       "    .dataframe tbody tr th:only-of-type {\n",
       "        vertical-align: middle;\n",
       "    }\n",
       "\n",
       "    .dataframe tbody tr th {\n",
       "        vertical-align: top;\n",
       "    }\n",
       "\n",
       "    .dataframe thead th {\n",
       "        text-align: right;\n",
       "    }\n",
       "</style>\n",
       "<table border=\"1\" class=\"dataframe\">\n",
       "  <thead>\n",
       "    <tr style=\"text-align: right;\">\n",
       "      <th></th>\n",
       "      <th>Pregnancies</th>\n",
       "      <th>Glucose</th>\n",
       "      <th>BloodPressure</th>\n",
       "      <th>SkinThickness</th>\n",
       "      <th>Insulin</th>\n",
       "      <th>BMI</th>\n",
       "      <th>DiabetesPedigreeFunction</th>\n",
       "      <th>Age</th>\n",
       "      <th>Outcome</th>\n",
       "    </tr>\n",
       "  </thead>\n",
       "  <tbody>\n",
       "  </tbody>\n",
       "</table>\n",
       "</div>"
      ],
      "text/plain": [
       "Empty DataFrame\n",
       "Columns: [Pregnancies, Glucose, BloodPressure, SkinThickness, Insulin, BMI, DiabetesPedigreeFunction, Age, Outcome]\n",
       "Index: []"
      ]
     },
     "execution_count": 190,
     "metadata": {},
     "output_type": "execute_result"
    }
   ],
   "source": [
    "new_df.loc[new_df['Glucose']== 0]"
   ]
  },
  {
   "cell_type": "markdown",
   "metadata": {},
   "source": [
    "Before: "
   ]
  },
  {
   "cell_type": "code",
   "execution_count": 191,
   "metadata": {},
   "outputs": [
    {
     "data": {
      "text/plain": [
       "<AxesSubplot:xlabel='Glucose'>"
      ]
     },
     "execution_count": 191,
     "metadata": {},
     "output_type": "execute_result"
    },
    {
     "data": {
      "image/png": "[encoded data removed]",
      "text/plain": [
       "<Figure size 432x288 with 1 Axes>"
      ]
     },
     "metadata": {
      "needs_background": "light"
     },
     "output_type": "display_data"
    }
   ],
   "source": [
    "sns.boxplot(df.Glucose)"
   ]
  },
  {
   "cell_type": "markdown",
   "metadata": {},
   "source": [
    "After: "
   ]
  },
  {
   "cell_type": "code",
   "execution_count": 192,
   "metadata": {},
   "outputs": [
    {
     "data": {
      "text/plain": [
       "<AxesSubplot:xlabel='Glucose'>"
      ]
     },
     "execution_count": 192,
     "metadata": {},
     "output_type": "execute_result"
    },
    {
     "data": {
      "image/png": "[encoded data removed]",
      "text/plain": [
       "<Figure size 432x288 with 1 Axes>"
      ]
     },
     "metadata": {
      "needs_background": "light"
     },
     "output_type": "display_data"
    }
   ],
   "source": [
    "sns.boxplot(new_df.Glucose)"
   ]
  },
  {
   "cell_type": "markdown",
   "metadata": {},
   "source": [
    "After we replaced the Glucose missing data with median value, the boxplot for glucose shows that there is a good distribution of data."
   ]
  },
  {
   "cell_type": "markdown",
   "metadata": {},
   "source": [
    "#### BloodPressure:\n",
    "\n",
    "Blood pressure of a alive human being cannot be at zero. Which is why we will look into this attribute and try to deal with them as necessaty. "
   ]
  },
  {
   "cell_type": "code",
   "execution_count": 193,
   "metadata": {},
   "outputs": [
    {
     "name": "stdout",
     "output_type": "stream",
     "text": [
      "35\n"
     ]
    },
    {
     "data": {
      "text/html": [
       "<div>\n",
       "<style scoped>\n",
       "    .dataframe tbody tr th:only-of-type {\n",
       "        vertical-align: middle;\n",
       "    }\n",
       "\n",
       "    .dataframe tbody tr th {\n",
       "        vertical-align: top;\n",
       "    }\n",
       "\n",
       "    .dataframe thead th {\n",
       "        text-align: right;\n",
       "    }\n",
       "</style>\n",
       "<table border=\"1\" class=\"dataframe\">\n",
       "  <thead>\n",
       "    <tr style=\"text-align: right;\">\n",
       "      <th></th>\n",
       "      <th>Pregnancies</th>\n",
       "      <th>Glucose</th>\n",
       "      <th>BloodPressure</th>\n",
       "      <th>SkinThickness</th>\n",
       "      <th>Insulin</th>\n",
       "      <th>BMI</th>\n",
       "      <th>DiabetesPedigreeFunction</th>\n",
       "      <th>Age</th>\n",
       "      <th>Outcome</th>\n",
       "    </tr>\n",
       "  </thead>\n",
       "  <tbody>\n",
       "    <tr>\n",
       "      <th>8</th>\n",
       "      <td>10</td>\n",
       "      <td>115</td>\n",
       "      <td>0</td>\n",
       "      <td>0</td>\n",
       "      <td>0</td>\n",
       "      <td>35.3</td>\n",
       "      <td>0.134</td>\n",
       "      <td>29</td>\n",
       "      <td>0</td>\n",
       "    </tr>\n",
       "    <tr>\n",
       "      <th>16</th>\n",
       "      <td>7</td>\n",
       "      <td>100</td>\n",
       "      <td>0</td>\n",
       "      <td>0</td>\n",
       "      <td>0</td>\n",
       "      <td>30.0</td>\n",
       "      <td>0.484</td>\n",
       "      <td>32</td>\n",
       "      <td>1</td>\n",
       "    </tr>\n",
       "    <tr>\n",
       "      <th>50</th>\n",
       "      <td>7</td>\n",
       "      <td>105</td>\n",
       "      <td>0</td>\n",
       "      <td>0</td>\n",
       "      <td>0</td>\n",
       "      <td>0.0</td>\n",
       "      <td>0.305</td>\n",
       "      <td>24</td>\n",
       "      <td>0</td>\n",
       "    </tr>\n",
       "    <tr>\n",
       "      <th>61</th>\n",
       "      <td>2</td>\n",
       "      <td>84</td>\n",
       "      <td>0</td>\n",
       "      <td>0</td>\n",
       "      <td>0</td>\n",
       "      <td>0.0</td>\n",
       "      <td>0.304</td>\n",
       "      <td>21</td>\n",
       "      <td>0</td>\n",
       "    </tr>\n",
       "    <tr>\n",
       "      <th>79</th>\n",
       "      <td>0</td>\n",
       "      <td>131</td>\n",
       "      <td>0</td>\n",
       "      <td>0</td>\n",
       "      <td>0</td>\n",
       "      <td>43.2</td>\n",
       "      <td>0.270</td>\n",
       "      <td>26</td>\n",
       "      <td>1</td>\n",
       "    </tr>\n",
       "    <tr>\n",
       "      <th>82</th>\n",
       "      <td>2</td>\n",
       "      <td>74</td>\n",
       "      <td>0</td>\n",
       "      <td>0</td>\n",
       "      <td>0</td>\n",
       "      <td>0.0</td>\n",
       "      <td>0.102</td>\n",
       "      <td>22</td>\n",
       "      <td>0</td>\n",
       "    </tr>\n",
       "    <tr>\n",
       "      <th>173</th>\n",
       "      <td>2</td>\n",
       "      <td>87</td>\n",
       "      <td>0</td>\n",
       "      <td>23</td>\n",
       "      <td>0</td>\n",
       "      <td>28.9</td>\n",
       "      <td>0.773</td>\n",
       "      <td>25</td>\n",
       "      <td>0</td>\n",
       "    </tr>\n",
       "    <tr>\n",
       "      <th>194</th>\n",
       "      <td>11</td>\n",
       "      <td>135</td>\n",
       "      <td>0</td>\n",
       "      <td>0</td>\n",
       "      <td>0</td>\n",
       "      <td>52.3</td>\n",
       "      <td>0.578</td>\n",
       "      <td>40</td>\n",
       "      <td>1</td>\n",
       "    </tr>\n",
       "    <tr>\n",
       "      <th>223</th>\n",
       "      <td>7</td>\n",
       "      <td>119</td>\n",
       "      <td>0</td>\n",
       "      <td>0</td>\n",
       "      <td>0</td>\n",
       "      <td>25.2</td>\n",
       "      <td>0.209</td>\n",
       "      <td>37</td>\n",
       "      <td>0</td>\n",
       "    </tr>\n",
       "    <tr>\n",
       "      <th>262</th>\n",
       "      <td>3</td>\n",
       "      <td>141</td>\n",
       "      <td>0</td>\n",
       "      <td>0</td>\n",
       "      <td>0</td>\n",
       "      <td>30.0</td>\n",
       "      <td>0.761</td>\n",
       "      <td>27</td>\n",
       "      <td>1</td>\n",
       "    </tr>\n",
       "    <tr>\n",
       "      <th>267</th>\n",
       "      <td>0</td>\n",
       "      <td>138</td>\n",
       "      <td>0</td>\n",
       "      <td>0</td>\n",
       "      <td>0</td>\n",
       "      <td>36.3</td>\n",
       "      <td>0.933</td>\n",
       "      <td>25</td>\n",
       "      <td>1</td>\n",
       "    </tr>\n",
       "    <tr>\n",
       "      <th>270</th>\n",
       "      <td>2</td>\n",
       "      <td>146</td>\n",
       "      <td>0</td>\n",
       "      <td>0</td>\n",
       "      <td>0</td>\n",
       "      <td>27.5</td>\n",
       "      <td>0.240</td>\n",
       "      <td>28</td>\n",
       "      <td>1</td>\n",
       "    </tr>\n",
       "    <tr>\n",
       "      <th>301</th>\n",
       "      <td>0</td>\n",
       "      <td>167</td>\n",
       "      <td>0</td>\n",
       "      <td>0</td>\n",
       "      <td>0</td>\n",
       "      <td>32.3</td>\n",
       "      <td>0.839</td>\n",
       "      <td>30</td>\n",
       "      <td>1</td>\n",
       "    </tr>\n",
       "    <tr>\n",
       "      <th>333</th>\n",
       "      <td>1</td>\n",
       "      <td>180</td>\n",
       "      <td>0</td>\n",
       "      <td>0</td>\n",
       "      <td>0</td>\n",
       "      <td>43.3</td>\n",
       "      <td>0.282</td>\n",
       "      <td>41</td>\n",
       "      <td>1</td>\n",
       "    </tr>\n",
       "    <tr>\n",
       "      <th>337</th>\n",
       "      <td>0</td>\n",
       "      <td>117</td>\n",
       "      <td>0</td>\n",
       "      <td>0</td>\n",
       "      <td>0</td>\n",
       "      <td>33.8</td>\n",
       "      <td>0.932</td>\n",
       "      <td>44</td>\n",
       "      <td>0</td>\n",
       "    </tr>\n",
       "    <tr>\n",
       "      <th>348</th>\n",
       "      <td>3</td>\n",
       "      <td>116</td>\n",
       "      <td>0</td>\n",
       "      <td>0</td>\n",
       "      <td>0</td>\n",
       "      <td>23.5</td>\n",
       "      <td>0.187</td>\n",
       "      <td>23</td>\n",
       "      <td>0</td>\n",
       "    </tr>\n",
       "    <tr>\n",
       "      <th>358</th>\n",
       "      <td>13</td>\n",
       "      <td>129</td>\n",
       "      <td>0</td>\n",
       "      <td>30</td>\n",
       "      <td>0</td>\n",
       "      <td>39.9</td>\n",
       "      <td>0.569</td>\n",
       "      <td>44</td>\n",
       "      <td>1</td>\n",
       "    </tr>\n",
       "    <tr>\n",
       "      <th>427</th>\n",
       "      <td>0</td>\n",
       "      <td>94</td>\n",
       "      <td>0</td>\n",
       "      <td>0</td>\n",
       "      <td>0</td>\n",
       "      <td>0.0</td>\n",
       "      <td>0.256</td>\n",
       "      <td>25</td>\n",
       "      <td>0</td>\n",
       "    </tr>\n",
       "    <tr>\n",
       "      <th>431</th>\n",
       "      <td>2</td>\n",
       "      <td>99</td>\n",
       "      <td>0</td>\n",
       "      <td>0</td>\n",
       "      <td>0</td>\n",
       "      <td>22.2</td>\n",
       "      <td>0.108</td>\n",
       "      <td>23</td>\n",
       "      <td>0</td>\n",
       "    </tr>\n",
       "    <tr>\n",
       "      <th>436</th>\n",
       "      <td>0</td>\n",
       "      <td>141</td>\n",
       "      <td>0</td>\n",
       "      <td>0</td>\n",
       "      <td>0</td>\n",
       "      <td>42.4</td>\n",
       "      <td>0.205</td>\n",
       "      <td>29</td>\n",
       "      <td>1</td>\n",
       "    </tr>\n",
       "    <tr>\n",
       "      <th>454</th>\n",
       "      <td>2</td>\n",
       "      <td>119</td>\n",
       "      <td>0</td>\n",
       "      <td>0</td>\n",
       "      <td>0</td>\n",
       "      <td>19.6</td>\n",
       "      <td>0.832</td>\n",
       "      <td>72</td>\n",
       "      <td>0</td>\n",
       "    </tr>\n",
       "    <tr>\n",
       "      <th>469</th>\n",
       "      <td>8</td>\n",
       "      <td>120</td>\n",
       "      <td>0</td>\n",
       "      <td>0</td>\n",
       "      <td>0</td>\n",
       "      <td>30.0</td>\n",
       "      <td>0.183</td>\n",
       "      <td>38</td>\n",
       "      <td>1</td>\n",
       "    </tr>\n",
       "    <tr>\n",
       "      <th>485</th>\n",
       "      <td>0</td>\n",
       "      <td>145</td>\n",
       "      <td>0</td>\n",
       "      <td>0</td>\n",
       "      <td>0</td>\n",
       "      <td>44.2</td>\n",
       "      <td>0.630</td>\n",
       "      <td>31</td>\n",
       "      <td>1</td>\n",
       "    </tr>\n",
       "    <tr>\n",
       "      <th>495</th>\n",
       "      <td>3</td>\n",
       "      <td>80</td>\n",
       "      <td>0</td>\n",
       "      <td>0</td>\n",
       "      <td>0</td>\n",
       "      <td>0.0</td>\n",
       "      <td>0.174</td>\n",
       "      <td>22</td>\n",
       "      <td>0</td>\n",
       "    </tr>\n",
       "    <tr>\n",
       "      <th>523</th>\n",
       "      <td>6</td>\n",
       "      <td>114</td>\n",
       "      <td>0</td>\n",
       "      <td>0</td>\n",
       "      <td>0</td>\n",
       "      <td>0.0</td>\n",
       "      <td>0.189</td>\n",
       "      <td>26</td>\n",
       "      <td>0</td>\n",
       "    </tr>\n",
       "    <tr>\n",
       "      <th>534</th>\n",
       "      <td>6</td>\n",
       "      <td>91</td>\n",
       "      <td>0</td>\n",
       "      <td>0</td>\n",
       "      <td>0</td>\n",
       "      <td>29.8</td>\n",
       "      <td>0.501</td>\n",
       "      <td>31</td>\n",
       "      <td>0</td>\n",
       "    </tr>\n",
       "    <tr>\n",
       "      <th>536</th>\n",
       "      <td>4</td>\n",
       "      <td>132</td>\n",
       "      <td>0</td>\n",
       "      <td>0</td>\n",
       "      <td>0</td>\n",
       "      <td>32.9</td>\n",
       "      <td>0.302</td>\n",
       "      <td>23</td>\n",
       "      <td>1</td>\n",
       "    </tr>\n",
       "    <tr>\n",
       "      <th>590</th>\n",
       "      <td>0</td>\n",
       "      <td>73</td>\n",
       "      <td>0</td>\n",
       "      <td>0</td>\n",
       "      <td>0</td>\n",
       "      <td>21.1</td>\n",
       "      <td>0.342</td>\n",
       "      <td>25</td>\n",
       "      <td>0</td>\n",
       "    </tr>\n",
       "    <tr>\n",
       "      <th>602</th>\n",
       "      <td>6</td>\n",
       "      <td>96</td>\n",
       "      <td>0</td>\n",
       "      <td>0</td>\n",
       "      <td>0</td>\n",
       "      <td>23.7</td>\n",
       "      <td>0.190</td>\n",
       "      <td>28</td>\n",
       "      <td>0</td>\n",
       "    </tr>\n",
       "    <tr>\n",
       "      <th>605</th>\n",
       "      <td>4</td>\n",
       "      <td>183</td>\n",
       "      <td>0</td>\n",
       "      <td>0</td>\n",
       "      <td>0</td>\n",
       "      <td>28.4</td>\n",
       "      <td>0.212</td>\n",
       "      <td>36</td>\n",
       "      <td>1</td>\n",
       "    </tr>\n",
       "    <tr>\n",
       "      <th>620</th>\n",
       "      <td>0</td>\n",
       "      <td>119</td>\n",
       "      <td>0</td>\n",
       "      <td>0</td>\n",
       "      <td>0</td>\n",
       "      <td>32.4</td>\n",
       "      <td>0.141</td>\n",
       "      <td>24</td>\n",
       "      <td>1</td>\n",
       "    </tr>\n",
       "    <tr>\n",
       "      <th>644</th>\n",
       "      <td>4</td>\n",
       "      <td>90</td>\n",
       "      <td>0</td>\n",
       "      <td>0</td>\n",
       "      <td>0</td>\n",
       "      <td>28.0</td>\n",
       "      <td>0.610</td>\n",
       "      <td>31</td>\n",
       "      <td>0</td>\n",
       "    </tr>\n",
       "    <tr>\n",
       "      <th>698</th>\n",
       "      <td>0</td>\n",
       "      <td>99</td>\n",
       "      <td>0</td>\n",
       "      <td>0</td>\n",
       "      <td>0</td>\n",
       "      <td>25.0</td>\n",
       "      <td>0.253</td>\n",
       "      <td>22</td>\n",
       "      <td>0</td>\n",
       "    </tr>\n",
       "    <tr>\n",
       "      <th>704</th>\n",
       "      <td>2</td>\n",
       "      <td>129</td>\n",
       "      <td>0</td>\n",
       "      <td>0</td>\n",
       "      <td>0</td>\n",
       "      <td>38.5</td>\n",
       "      <td>0.304</td>\n",
       "      <td>41</td>\n",
       "      <td>0</td>\n",
       "    </tr>\n",
       "    <tr>\n",
       "      <th>707</th>\n",
       "      <td>10</td>\n",
       "      <td>115</td>\n",
       "      <td>0</td>\n",
       "      <td>0</td>\n",
       "      <td>0</td>\n",
       "      <td>0.0</td>\n",
       "      <td>0.261</td>\n",
       "      <td>30</td>\n",
       "      <td>1</td>\n",
       "    </tr>\n",
       "  </tbody>\n",
       "</table>\n",
       "</div>"
      ],
      "text/plain": [
       "     Pregnancies  Glucose  BloodPressure  SkinThickness  Insulin   BMI  \\\n",
       "8             10      115              0              0        0  35.3   \n",
       "16             7      100              0              0        0  30.0   \n",
       "50             7      105              0              0        0   0.0   \n",
       "61             2       84              0              0        0   0.0   \n",
       "79             0      131              0              0        0  43.2   \n",
       "82             2       74              0              0        0   0.0   \n",
       "173            2       87              0             23        0  28.9   \n",
       "194           11      135              0              0        0  52.3   \n",
       "223            7      119              0              0        0  25.2   \n",
       "262            3      141              0              0        0  30.0   \n",
       "267            0      138              0              0        0  36.3   \n",
       "270            2      146              0              0        0  27.5   \n",
       "301            0      167              0              0        0  32.3   \n",
       "333            1      180              0              0        0  43.3   \n",
       "337            0      117              0              0        0  33.8   \n",
       "348            3      116              0              0        0  23.5   \n",
       "358           13      129              0             30        0  39.9   \n",
       "427            0       94              0              0        0   0.0   \n",
       "431            2       99              0              0        0  22.2   \n",
       "436            0      141              0              0        0  42.4   \n",
       "454            2      119              0              0        0  19.6   \n",
       "469            8      120              0              0        0  30.0   \n",
       "485            0      145              0              0        0  44.2   \n",
       "495            3       80              0              0        0   0.0   \n",
       "523            6      114              0              0        0   0.0   \n",
       "534            6       91              0              0        0  29.8   \n",
       "536            4      132              0              0        0  32.9   \n",
       "590            0       73              0              0        0  21.1   \n",
       "602            6       96              0              0        0  23.7   \n",
       "605            4      183              0              0        0  28.4   \n",
       "620            0      119              0              0        0  32.4   \n",
       "644            4       90              0              0        0  28.0   \n",
       "698            0       99              0              0        0  25.0   \n",
       "704            2      129              0              0        0  38.5   \n",
       "707           10      115              0              0        0   0.0   \n",
       "\n",
       "     DiabetesPedigreeFunction  Age  Outcome  \n",
       "8                       0.134   29        0  \n",
       "16                      0.484   32        1  \n",
       "50                      0.305   24        0  \n",
       "61                      0.304   21        0  \n",
       "79                      0.270   26        1  \n",
       "82                      0.102   22        0  \n",
       "173                     0.773   25        0  \n",
       "194                     0.578   40        1  \n",
       "223                     0.209   37        0  \n",
       "262                     0.761   27        1  \n",
       "267                     0.933   25        1  \n",
       "270                     0.240   28        1  \n",
       "301                     0.839   30        1  \n",
       "333                     0.282   41        1  \n",
       "337                     0.932   44        0  \n",
       "348                     0.187   23        0  \n",
       "358                     0.569   44        1  \n",
       "427                     0.256   25        0  \n",
       "431                     0.108   23        0  \n",
       "436                     0.205   29        1  \n",
       "454                     0.832   72        0  \n",
       "469                     0.183   38        1  \n",
       "485                     0.630   31        1  \n",
       "495                     0.174   22        0  \n",
       "523                     0.189   26        0  \n",
       "534                     0.501   31        0  \n",
       "536                     0.302   23        1  \n",
       "590                     0.342   25        0  \n",
       "602                     0.190   28        0  \n",
       "605                     0.212   36        1  \n",
       "620                     0.141   24        1  \n",
       "644                     0.610   31        0  \n",
       "698                     0.253   22        0  \n",
       "704                     0.304   41        0  \n",
       "707                     0.261   30        1  "
      ]
     },
     "execution_count": 193,
     "metadata": {},
     "output_type": "execute_result"
    }
   ],
   "source": [
    "# find out how many rows have blood pressure 0\n",
    "print(new_df[new_df.BloodPressure == 0].shape[0])\n",
    "\n",
    "# locating the index of '0' character \n",
    "df.loc[df['BloodPressure']== 0]\n"
   ]
  },
  {
   "cell_type": "markdown",
   "metadata": {},
   "source": [
    "There are 35 rows which does not have measurement of blood pressure. 35 is only 4.56% percentage of the total 768 and the 75th percentile of the individuals have bloodpressure less than 80, it is appropriate to replace the bloodpressure with median value which is 72. "
   ]
  },
  {
   "cell_type": "code",
   "execution_count": 194,
   "metadata": {},
   "outputs": [],
   "source": [
    "# replacing BloodPressure values with median\n",
    "median_val = new_df['BloodPressure'].median(skipna=True)\n",
    "\n",
    "new_df['BloodPressure'] = new_df.BloodPressure.mask(new_df.BloodPressure == 0, median_val )\n"
   ]
  },
  {
   "cell_type": "markdown",
   "metadata": {},
   "source": [
    "Before:"
   ]
  },
  {
   "cell_type": "code",
   "execution_count": 195,
   "metadata": {},
   "outputs": [
    {
     "data": {
      "text/plain": [
       "<AxesSubplot:xlabel='Glucose'>"
      ]
     },
     "execution_count": 195,
     "metadata": {},
     "output_type": "execute_result"
    },
    {
     "data": {
      "image/png": "[encoded data removed]",
      "text/plain": [
       "<Figure size 432x288 with 1 Axes>"
      ]
     },
     "metadata": {
      "needs_background": "light"
     },
     "output_type": "display_data"
    }
   ],
   "source": [
    "sns.boxplot(df.Glucose)"
   ]
  },
  {
   "cell_type": "markdown",
   "metadata": {},
   "source": [
    "After:"
   ]
  },
  {
   "cell_type": "code",
   "execution_count": 196,
   "metadata": {},
   "outputs": [
    {
     "data": {
      "text/plain": [
       "<AxesSubplot:xlabel='Glucose'>"
      ]
     },
     "execution_count": 196,
     "metadata": {},
     "output_type": "execute_result"
    },
    {
     "data": {
      "image/png": "[encoded data removed]",
      "text/plain": [
       "<Figure size 432x288 with 1 Axes>"
      ]
     },
     "metadata": {
      "needs_background": "light"
     },
     "output_type": "display_data"
    }
   ],
   "source": [
    "sns.boxplot(new_df.Glucose)"
   ]
  },
  {
   "cell_type": "markdown",
   "metadata": {},
   "source": [
    "#### BMI:\n",
    "\n",
    "Unless someone is critically ill or is in a very bad medical condition, BMI should not be zero. Let's look at rows with BMI value zero and see which approach will be best to apply dealing with those missing values."
   ]
  },
  {
   "cell_type": "code",
   "execution_count": 197,
   "metadata": {},
   "outputs": [
    {
     "name": "stdout",
     "output_type": "stream",
     "text": [
      "(11, 9)\n"
     ]
    },
    {
     "data": {
      "text/html": [
       "<div>\n",
       "<style scoped>\n",
       "    .dataframe tbody tr th:only-of-type {\n",
       "        vertical-align: middle;\n",
       "    }\n",
       "\n",
       "    .dataframe tbody tr th {\n",
       "        vertical-align: top;\n",
       "    }\n",
       "\n",
       "    .dataframe thead th {\n",
       "        text-align: right;\n",
       "    }\n",
       "</style>\n",
       "<table border=\"1\" class=\"dataframe\">\n",
       "  <thead>\n",
       "    <tr style=\"text-align: right;\">\n",
       "      <th></th>\n",
       "      <th>Pregnancies</th>\n",
       "      <th>Glucose</th>\n",
       "      <th>BloodPressure</th>\n",
       "      <th>SkinThickness</th>\n",
       "      <th>Insulin</th>\n",
       "      <th>BMI</th>\n",
       "      <th>DiabetesPedigreeFunction</th>\n",
       "      <th>Age</th>\n",
       "      <th>Outcome</th>\n",
       "    </tr>\n",
       "  </thead>\n",
       "  <tbody>\n",
       "    <tr>\n",
       "      <th>10</th>\n",
       "      <td>8</td>\n",
       "      <td>125</td>\n",
       "      <td>96</td>\n",
       "      <td>0</td>\n",
       "      <td>0</td>\n",
       "      <td>0.0</td>\n",
       "      <td>0.232</td>\n",
       "      <td>54</td>\n",
       "      <td>1</td>\n",
       "    </tr>\n",
       "    <tr>\n",
       "      <th>50</th>\n",
       "      <td>7</td>\n",
       "      <td>105</td>\n",
       "      <td>0</td>\n",
       "      <td>0</td>\n",
       "      <td>0</td>\n",
       "      <td>0.0</td>\n",
       "      <td>0.305</td>\n",
       "      <td>24</td>\n",
       "      <td>0</td>\n",
       "    </tr>\n",
       "    <tr>\n",
       "      <th>61</th>\n",
       "      <td>2</td>\n",
       "      <td>84</td>\n",
       "      <td>0</td>\n",
       "      <td>0</td>\n",
       "      <td>0</td>\n",
       "      <td>0.0</td>\n",
       "      <td>0.304</td>\n",
       "      <td>21</td>\n",
       "      <td>0</td>\n",
       "    </tr>\n",
       "    <tr>\n",
       "      <th>82</th>\n",
       "      <td>2</td>\n",
       "      <td>74</td>\n",
       "      <td>0</td>\n",
       "      <td>0</td>\n",
       "      <td>0</td>\n",
       "      <td>0.0</td>\n",
       "      <td>0.102</td>\n",
       "      <td>22</td>\n",
       "      <td>0</td>\n",
       "    </tr>\n",
       "    <tr>\n",
       "      <th>146</th>\n",
       "      <td>0</td>\n",
       "      <td>102</td>\n",
       "      <td>75</td>\n",
       "      <td>23</td>\n",
       "      <td>0</td>\n",
       "      <td>0.0</td>\n",
       "      <td>0.572</td>\n",
       "      <td>21</td>\n",
       "      <td>0</td>\n",
       "    </tr>\n",
       "    <tr>\n",
       "      <th>372</th>\n",
       "      <td>0</td>\n",
       "      <td>118</td>\n",
       "      <td>64</td>\n",
       "      <td>23</td>\n",
       "      <td>89</td>\n",
       "      <td>0.0</td>\n",
       "      <td>1.731</td>\n",
       "      <td>21</td>\n",
       "      <td>0</td>\n",
       "    </tr>\n",
       "    <tr>\n",
       "      <th>427</th>\n",
       "      <td>0</td>\n",
       "      <td>94</td>\n",
       "      <td>0</td>\n",
       "      <td>0</td>\n",
       "      <td>0</td>\n",
       "      <td>0.0</td>\n",
       "      <td>0.256</td>\n",
       "      <td>25</td>\n",
       "      <td>0</td>\n",
       "    </tr>\n",
       "    <tr>\n",
       "      <th>495</th>\n",
       "      <td>3</td>\n",
       "      <td>80</td>\n",
       "      <td>0</td>\n",
       "      <td>0</td>\n",
       "      <td>0</td>\n",
       "      <td>0.0</td>\n",
       "      <td>0.174</td>\n",
       "      <td>22</td>\n",
       "      <td>0</td>\n",
       "    </tr>\n",
       "    <tr>\n",
       "      <th>523</th>\n",
       "      <td>6</td>\n",
       "      <td>114</td>\n",
       "      <td>0</td>\n",
       "      <td>0</td>\n",
       "      <td>0</td>\n",
       "      <td>0.0</td>\n",
       "      <td>0.189</td>\n",
       "      <td>26</td>\n",
       "      <td>0</td>\n",
       "    </tr>\n",
       "    <tr>\n",
       "      <th>685</th>\n",
       "      <td>5</td>\n",
       "      <td>136</td>\n",
       "      <td>82</td>\n",
       "      <td>0</td>\n",
       "      <td>0</td>\n",
       "      <td>0.0</td>\n",
       "      <td>0.640</td>\n",
       "      <td>69</td>\n",
       "      <td>0</td>\n",
       "    </tr>\n",
       "    <tr>\n",
       "      <th>707</th>\n",
       "      <td>10</td>\n",
       "      <td>115</td>\n",
       "      <td>0</td>\n",
       "      <td>0</td>\n",
       "      <td>0</td>\n",
       "      <td>0.0</td>\n",
       "      <td>0.261</td>\n",
       "      <td>30</td>\n",
       "      <td>1</td>\n",
       "    </tr>\n",
       "  </tbody>\n",
       "</table>\n",
       "</div>"
      ],
      "text/plain": [
       "     Pregnancies  Glucose  BloodPressure  SkinThickness  Insulin  BMI  \\\n",
       "10             8      125             96              0        0  0.0   \n",
       "50             7      105              0              0        0  0.0   \n",
       "61             2       84              0              0        0  0.0   \n",
       "82             2       74              0              0        0  0.0   \n",
       "146            0      102             75             23        0  0.0   \n",
       "372            0      118             64             23       89  0.0   \n",
       "427            0       94              0              0        0  0.0   \n",
       "495            3       80              0              0        0  0.0   \n",
       "523            6      114              0              0        0  0.0   \n",
       "685            5      136             82              0        0  0.0   \n",
       "707           10      115              0              0        0  0.0   \n",
       "\n",
       "     DiabetesPedigreeFunction  Age  Outcome  \n",
       "10                      0.232   54        1  \n",
       "50                      0.305   24        0  \n",
       "61                      0.304   21        0  \n",
       "82                      0.102   22        0  \n",
       "146                     0.572   21        0  \n",
       "372                     1.731   21        0  \n",
       "427                     0.256   25        0  \n",
       "495                     0.174   22        0  \n",
       "523                     0.189   26        0  \n",
       "685                     0.640   69        0  \n",
       "707                     0.261   30        1  "
      ]
     },
     "execution_count": 197,
     "metadata": {},
     "output_type": "execute_result"
    }
   ],
   "source": [
    "# find out how many rows have BMI 0\n",
    "print(new_df[new_df.BMI == 0.0].shape)\n",
    "\n",
    "# locating the index of '0' character \n",
    "df.loc[df['BMI']== 0.0]"
   ]
  },
  {
   "cell_type": "markdown",
   "metadata": {},
   "source": [
    "There are only few rows where BMI values are missing, and it makes sense to replace them with median since majority of the data set provides information on BMI. Changing these rows with median will likely make our data set more robust. "
   ]
  },
  {
   "cell_type": "code",
   "execution_count": 198,
   "metadata": {},
   "outputs": [],
   "source": [
    "# replacing BMI values with median\n",
    "# new_df.fillna(new_df.median())\n",
    "median_val = new_df['BMI'].median(skipna=True)\n",
    "\n",
    "new_df['BMI'] = new_df.BMI.mask(new_df.BMI == 0, median_val )\n",
    "\n"
   ]
  },
  {
   "cell_type": "markdown",
   "metadata": {},
   "source": [
    "After replacing zero values with median: "
   ]
  },
  {
   "cell_type": "code",
   "execution_count": 199,
   "metadata": {},
   "outputs": [
    {
     "data": {
      "text/plain": [
       "<AxesSubplot:xlabel='BMI'>"
      ]
     },
     "execution_count": 199,
     "metadata": {},
     "output_type": "execute_result"
    },
    {
     "data": {
      "image/png": "[encoded data removed]",
      "text/plain": [
       "<Figure size 432x288 with 1 Axes>"
      ]
     },
     "metadata": {
      "needs_background": "light"
     },
     "output_type": "display_data"
    }
   ],
   "source": [
    "sns.boxplot(new_df.BMI)"
   ]
  },
  {
   "cell_type": "markdown",
   "metadata": {},
   "source": [
    "There are still quite a few number of outliers in BMI. Lets try and solve them. "
   ]
  },
  {
   "cell_type": "code",
   "execution_count": 200,
   "metadata": {},
   "outputs": [
    {
     "data": {
      "text/plain": [
       "(1, 9)"
      ]
     },
     "execution_count": 200,
     "metadata": {},
     "output_type": "execute_result"
    }
   ],
   "source": [
    "new_df.loc[new_df['BMI'] > 60].shape"
   ]
  },
  {
   "cell_type": "markdown",
   "metadata": {},
   "source": [
    "Because there are 41 values that are greater than 60, it is hard to conclude that those values are mis inputed in the data set. Those outliers could mean there are some individuals who are highly obessed. "
   ]
  },
  {
   "cell_type": "markdown",
   "metadata": {},
   "source": [
    "#### SkinThickness:\n",
    "\n"
   ]
  },
  {
   "cell_type": "code",
   "execution_count": 201,
   "metadata": {},
   "outputs": [
    {
     "data": {
      "text/plain": [
       "<AxesSubplot:xlabel='SkinThickness'>"
      ]
     },
     "execution_count": 201,
     "metadata": {},
     "output_type": "execute_result"
    },
    {
     "data": {
      "image/png": "[encoded data removed]",
      "text/plain": [
       "<Figure size 432x288 with 1 Axes>"
      ]
     },
     "metadata": {
      "needs_background": "light"
     },
     "output_type": "display_data"
    }
   ],
   "source": [
    "sns.boxplot(new_df.SkinThickness)"
   ]
  },
  {
   "cell_type": "code",
   "execution_count": 202,
   "metadata": {},
   "outputs": [
    {
     "data": {
      "text/plain": [
       "<AxesSubplot:xlabel='SkinThickness', ylabel='BMI'>"
      ]
     },
     "execution_count": 202,
     "metadata": {},
     "output_type": "execute_result"
    },
    {
     "data": {
      "image/png": "[encoded data removed]",
      "text/plain": [
       "<Figure size 432x288 with 1 Axes>"
      ]
     },
     "metadata": {
      "needs_background": "light"
     },
     "output_type": "display_data"
    }
   ],
   "source": [
    "sns.scatterplot(x='SkinThickness',\n",
    "                    y='BMI',\n",
    "                    data=new_df)"
   ]
  },
  {
   "cell_type": "markdown",
   "metadata": {},
   "source": [
    "The box plot shows that there are some outliers in the higher side of the SkinThickness data. Looking at the BMI data, there are a lot of people with very high BMI which means, there are a lot of individuals with high skin thickenss. Looking at the scatter plot we can assume that higher BMI and SkinThickness are somehow corelated. "
   ]
  },
  {
   "cell_type": "code",
   "execution_count": 203,
   "metadata": {},
   "outputs": [
    {
     "name": "stdout",
     "output_type": "stream",
     "text": [
      "227\n",
      "374\n"
     ]
    }
   ],
   "source": [
    "# find out number of zeroes in each attributes\n",
    "\n",
    "print(new_df[new_df.SkinThickness == 0].shape[0])\n",
    "\n",
    "print(new_df[new_df.Insulin == 0].shape[0])"
   ]
  },
  {
   "cell_type": "markdown",
   "metadata": {},
   "source": [
    "Skin thickness and Insulin has a very high number of missing values. These columns can be dropped manually or might aswell get dropped while using machine learning algorithms during feature selection. "
   ]
  },
  {
   "cell_type": "markdown",
   "metadata": {},
   "source": [
    "We are going to ignore the zero values in the variables Insuline and SkinThickness because they have the least ratio. Removing them will result to loose a lot of data because they are at least 25% of the data. We will pay close attention in the feature selection section to see whether or not these two columns are ignored for further analysis. "
   ]
  },
  {
   "cell_type": "markdown",
   "metadata": {},
   "source": [
    "#### Histogram\n",
    "\n",
    "We have performed most of our EDA data cleaning a little bit at this point. The following histogram will show us the range of data that we have. "
   ]
  },
  {
   "cell_type": "code",
   "execution_count": 204,
   "metadata": {},
   "outputs": [
    {
     "data": {
      "image/png": "[encoded data removed]",
      "text/plain": [
       "<Figure size 1080x720 with 9 Axes>"
      ]
     },
     "metadata": {
      "needs_background": "light"
     },
     "output_type": "display_data"
    }
   ],
   "source": [
    "#histograms\n",
    "new_df.hist(bins=50, figsize=(15,10))\n",
    "plt.show()"
   ]
  },
  {
   "cell_type": "markdown",
   "metadata": {},
   "source": [
    "If we were to ignore outlier values at 0 in skin thickness and insuline, the rest of the graph looks fine. There are some high values in age, but we already know that some people are close to 80 years and most of the women were of the age 21. "
   ]
  },
  {
   "cell_type": "markdown",
   "metadata": {},
   "source": [
    "The following test is to see if each of the attributes line up with being diabetic. The test is to find out if we have enough data to jump on to conclusion to say certain variable are true."
   ]
  },
  {
   "cell_type": "code",
   "execution_count": 205,
   "metadata": {},
   "outputs": [
    {
     "name": "stdout",
     "output_type": "stream",
     "text": [
      "Pregnancies\n",
      "0.350076103500761\n",
      "Glucose\n",
      "0.3489583333333333\n",
      "BloodPressure\n",
      "0.3489583333333333\n",
      "SkinThickness\n",
      "0.33271719038817005\n",
      "Insulin\n",
      "0.3299492385786802\n",
      "BMI\n",
      "0.3489583333333333\n",
      "DiabetesPedigreeFunction\n",
      "0.5686274509803921\n",
      "Age\n",
      "0.3489583333333333\n"
     ]
    }
   ],
   "source": [
    "def theTest(val, condition):\n",
    "  fft = pd.DataFrame(new_df[val])\n",
    "  fft['Outcome'] = df['Outcome']\n",
    "  records = fft[fft[val] >= condition]\n",
    "  counter1 = 0\n",
    "  counter2 = 0\n",
    "  for index, row in records.iterrows():\n",
    "    counter1 = counter1 + 1\n",
    "    if (row['Outcome'] == 1):\n",
    "      counter2 = counter2 + 1\n",
    "  print(counter2/counter1)\n",
    "\n",
    "letsSeeIfItMatters = ['Pregnancies', 'Glucose', 'BloodPressure', 'SkinThickness', 'Insulin', 'BMI', 'DiabetesPedigreeFunction', 'Age']\n",
    "for k in letsSeeIfItMatters:\n",
    "  print(k) \n",
    "  theTest(k, 1)\n",
    "\n",
    "# print('uer')\n",
    "# theTest('uer',10)"
   ]
  },
  {
   "cell_type": "markdown",
   "metadata": {},
   "source": [
    "Looking at the above analysis, it appears that almost all of the attributes have same level of impact on someone being diabetic. Besides DiabetesPedigreeFunction, all other variables have very low relation with being diabetic. It is true that not one single variable cannot tell us if someone has diabeties, however it also makes difficult to predict if certain variables are more responsible in having diabeties."
   ]
  },
  {
   "cell_type": "code",
   "execution_count": 206,
   "metadata": {},
   "outputs": [
    {
     "data": {
      "text/html": [
       "<div>\n",
       "<style scoped>\n",
       "    .dataframe tbody tr th:only-of-type {\n",
       "        vertical-align: middle;\n",
       "    }\n",
       "\n",
       "    .dataframe tbody tr th {\n",
       "        vertical-align: top;\n",
       "    }\n",
       "\n",
       "    .dataframe thead th {\n",
       "        text-align: right;\n",
       "    }\n",
       "</style>\n",
       "<table border=\"1\" class=\"dataframe\">\n",
       "  <thead>\n",
       "    <tr style=\"text-align: right;\">\n",
       "      <th>BloodPressure</th>\n",
       "      <th>24.0</th>\n",
       "      <th>30.0</th>\n",
       "      <th>38.0</th>\n",
       "      <th>40.0</th>\n",
       "      <th>44.0</th>\n",
       "      <th>46.0</th>\n",
       "      <th>48.0</th>\n",
       "      <th>50.0</th>\n",
       "      <th>52.0</th>\n",
       "      <th>54.0</th>\n",
       "      <th>...</th>\n",
       "      <th>96.0</th>\n",
       "      <th>98.0</th>\n",
       "      <th>100.0</th>\n",
       "      <th>102.0</th>\n",
       "      <th>104.0</th>\n",
       "      <th>106.0</th>\n",
       "      <th>108.0</th>\n",
       "      <th>110.0</th>\n",
       "      <th>114.0</th>\n",
       "      <th>122.0</th>\n",
       "    </tr>\n",
       "    <tr>\n",
       "      <th>Outcome</th>\n",
       "      <th></th>\n",
       "      <th></th>\n",
       "      <th></th>\n",
       "      <th></th>\n",
       "      <th></th>\n",
       "      <th></th>\n",
       "      <th></th>\n",
       "      <th></th>\n",
       "      <th></th>\n",
       "      <th></th>\n",
       "      <th></th>\n",
       "      <th></th>\n",
       "      <th></th>\n",
       "      <th></th>\n",
       "      <th></th>\n",
       "      <th></th>\n",
       "      <th></th>\n",
       "      <th></th>\n",
       "      <th></th>\n",
       "      <th></th>\n",
       "      <th></th>\n",
       "    </tr>\n",
       "  </thead>\n",
       "  <tbody>\n",
       "    <tr>\n",
       "      <th>0</th>\n",
       "      <td>1</td>\n",
       "      <td>1</td>\n",
       "      <td>1</td>\n",
       "      <td>0</td>\n",
       "      <td>4</td>\n",
       "      <td>2</td>\n",
       "      <td>4</td>\n",
       "      <td>8</td>\n",
       "      <td>8</td>\n",
       "      <td>9</td>\n",
       "      <td>...</td>\n",
       "      <td>3</td>\n",
       "      <td>1</td>\n",
       "      <td>2</td>\n",
       "      <td>0</td>\n",
       "      <td>0</td>\n",
       "      <td>2</td>\n",
       "      <td>1</td>\n",
       "      <td>1</td>\n",
       "      <td>0</td>\n",
       "      <td>1</td>\n",
       "    </tr>\n",
       "    <tr>\n",
       "      <th>1</th>\n",
       "      <td>0</td>\n",
       "      <td>1</td>\n",
       "      <td>0</td>\n",
       "      <td>1</td>\n",
       "      <td>0</td>\n",
       "      <td>0</td>\n",
       "      <td>1</td>\n",
       "      <td>5</td>\n",
       "      <td>3</td>\n",
       "      <td>2</td>\n",
       "      <td>...</td>\n",
       "      <td>1</td>\n",
       "      <td>2</td>\n",
       "      <td>1</td>\n",
       "      <td>1</td>\n",
       "      <td>2</td>\n",
       "      <td>1</td>\n",
       "      <td>1</td>\n",
       "      <td>2</td>\n",
       "      <td>1</td>\n",
       "      <td>0</td>\n",
       "    </tr>\n",
       "  </tbody>\n",
       "</table>\n",
       "<p>2 rows × 46 columns</p>\n",
       "</div>"
      ],
      "text/plain": [
       "BloodPressure  24.0   30.0   38.0   40.0   44.0   46.0   48.0   50.0   52.0   \\\n",
       "Outcome                                                                        \n",
       "0                  1      1      1      0      4      2      4      8      8   \n",
       "1                  0      1      0      1      0      0      1      5      3   \n",
       "\n",
       "BloodPressure  54.0   ...  96.0   98.0   100.0  102.0  104.0  106.0  108.0  \\\n",
       "Outcome               ...                                                    \n",
       "0                  9  ...      3      1      2      0      0      2      1   \n",
       "1                  2  ...      1      2      1      1      2      1      1   \n",
       "\n",
       "BloodPressure  110.0  114.0  122.0  \n",
       "Outcome                             \n",
       "0                  1      0      1  \n",
       "1                  2      1      0  \n",
       "\n",
       "[2 rows x 46 columns]"
      ]
     },
     "execution_count": 206,
     "metadata": {},
     "output_type": "execute_result"
    }
   ],
   "source": [
    "#use pandas crosstab to idenity data about the most correlated features\n",
    "pd.crosstab(new_df.Outcome,new_df.BloodPressure)"
   ]
  },
  {
   "cell_type": "markdown",
   "metadata": {},
   "source": [
    "Lets look at the table above in column where blood pressure is 50. We see that 5 people have diabetes, and 8 people don't have diabetes. Which is why we can say that bloodpressure is not a good indicator for diabetes, as it is not very consistant with its output."
   ]
  },
  {
   "cell_type": "markdown",
   "metadata": {},
   "source": [
    "#### EDA Conclusion\n",
    "\n",
    "From the various analysis such as histogram, barplots, boxplots and bar diagram we found out that the data set had a lot of missing values. There were some outliers, but some outliers also gave some useful insight about the womens in that community. We replaced some of the missing values where I thought were appropriate as I have also explained earlier. And, left some of the missing data as it is, because changing them would bring huge change in the entire data set because those would impact more than 25% of the used cases."
   ]
  },
  {
   "cell_type": "markdown",
   "metadata": {},
   "source": [
    "#### Feature Engineering"
   ]
  },
  {
   "cell_type": "markdown",
   "metadata": {},
   "source": [
    "At this step, our data is in numerical form with some minor cleaning on some of the attributes. Below I will use logistic regression to see which features contribute the most to our data set. "
   ]
  },
  {
   "cell_type": "markdown",
   "metadata": {},
   "source": [
    "#### Logistic Regression Model"
   ]
  },
  {
   "cell_type": "code",
   "execution_count": 241,
   "metadata": {},
   "outputs": [],
   "source": [
    "# make a copy of data\n",
    "train_df = new_df.copy()"
   ]
  },
  {
   "cell_type": "code",
   "execution_count": 242,
   "metadata": {},
   "outputs": [
    {
     "data": {
      "text/plain": [
       "0.7734375"
      ]
     },
     "execution_count": 242,
     "metadata": {},
     "output_type": "execute_result"
    }
   ],
   "source": [
    "# logistic regression (code from professor)\n",
    "\n",
    "y, X = dmatrices('Outcome ~ Pregnancies + Glucose + BloodPressure + SkinThickness + Insulin + BMI + DiabetesPedigreeFunction + Age', train_df, return_type=\"dataframe\")\n",
    "y = np.ravel(y)\n",
    "\n",
    "#ignore warnings\n",
    "np.warnings.filterwarnings('ignore')\n",
    "\n",
    "# instantiate a logistic regression model, and fit with X and y\n",
    "model = LogisticRegression()\n",
    "model = model.fit(X, y)\n",
    "\n",
    "# check the accuracy on the training set\n",
    "model.score(X, y)"
   ]
  },
  {
   "cell_type": "markdown",
   "metadata": {},
   "source": [
    "Our model has a score of 77.34%, which suggests that our model is not perfect. It is not very accurate. "
   ]
  },
  {
   "cell_type": "code",
   "execution_count": 243,
   "metadata": {},
   "outputs": [
    {
     "data": {
      "text/plain": [
       "0.3489583333333333"
      ]
     },
     "execution_count": 243,
     "metadata": {},
     "output_type": "execute_result"
    }
   ],
   "source": [
    "# what percentage had diabeties?\n",
    "y.mean()"
   ]
  },
  {
   "cell_type": "markdown",
   "metadata": {},
   "source": [
    "It shows us that on average, about 34% on the individuals have diabeties. "
   ]
  },
  {
   "cell_type": "code",
   "execution_count": 244,
   "metadata": {},
   "outputs": [
    {
     "data": {
      "text/html": [
       "<div>\n",
       "<style scoped>\n",
       "    .dataframe tbody tr th:only-of-type {\n",
       "        vertical-align: middle;\n",
       "    }\n",
       "\n",
       "    .dataframe tbody tr th {\n",
       "        vertical-align: top;\n",
       "    }\n",
       "\n",
       "    .dataframe thead th {\n",
       "        text-align: right;\n",
       "    }\n",
       "</style>\n",
       "<table border=\"1\" class=\"dataframe\">\n",
       "  <thead>\n",
       "    <tr style=\"text-align: right;\">\n",
       "      <th></th>\n",
       "      <th>0</th>\n",
       "      <th>1</th>\n",
       "    </tr>\n",
       "  </thead>\n",
       "  <tbody>\n",
       "    <tr>\n",
       "      <th>0</th>\n",
       "      <td>Intercept</td>\n",
       "      <td>[-3.827633536907034]</td>\n",
       "    </tr>\n",
       "    <tr>\n",
       "      <th>1</th>\n",
       "      <td>Pregnancies</td>\n",
       "      <td>[0.11679159063700902]</td>\n",
       "    </tr>\n",
       "    <tr>\n",
       "      <th>2</th>\n",
       "      <td>Glucose</td>\n",
       "      <td>[0.03620783635780686]</td>\n",
       "    </tr>\n",
       "    <tr>\n",
       "      <th>3</th>\n",
       "      <td>BloodPressure</td>\n",
       "      <td>[-0.015321842474055838]</td>\n",
       "    </tr>\n",
       "    <tr>\n",
       "      <th>4</th>\n",
       "      <td>SkinThickness</td>\n",
       "      <td>[-0.002820357543532702]</td>\n",
       "    </tr>\n",
       "    <tr>\n",
       "      <th>5</th>\n",
       "      <td>Insulin</td>\n",
       "      <td>[-0.0012244424386248028]</td>\n",
       "    </tr>\n",
       "    <tr>\n",
       "      <th>6</th>\n",
       "      <td>BMI</td>\n",
       "      <td>[0.09053716975462635]</td>\n",
       "    </tr>\n",
       "    <tr>\n",
       "      <th>7</th>\n",
       "      <td>DiabetesPedigreeFunction</td>\n",
       "      <td>[0.6981259871005288]</td>\n",
       "    </tr>\n",
       "    <tr>\n",
       "      <th>8</th>\n",
       "      <td>Age</td>\n",
       "      <td>[0.01053096888356653]</td>\n",
       "    </tr>\n",
       "  </tbody>\n",
       "</table>\n",
       "</div>"
      ],
      "text/plain": [
       "                          0                         1\n",
       "0                 Intercept      [-3.827633536907034]\n",
       "1               Pregnancies     [0.11679159063700902]\n",
       "2                   Glucose     [0.03620783635780686]\n",
       "3             BloodPressure   [-0.015321842474055838]\n",
       "4             SkinThickness   [-0.002820357543532702]\n",
       "5                   Insulin  [-0.0012244424386248028]\n",
       "6                       BMI     [0.09053716975462635]\n",
       "7  DiabetesPedigreeFunction      [0.6981259871005288]\n",
       "8                       Age     [0.01053096888356653]"
      ]
     },
     "execution_count": 244,
     "metadata": {},
     "output_type": "execute_result"
    }
   ],
   "source": [
    "# examine the coefficients\n",
    "pd.DataFrame(zip(X.columns, np.transpose(model.coef_)))"
   ]
  },
  {
   "cell_type": "markdown",
   "metadata": {},
   "source": [
    "The variable that influence the most is the DiabetesPedigreeFunction with 0.698, and the second from the top is Pregnancies which has score 0.117. Rest of the variables have more or less influence on diagnosis with diabeties. Bloodpressure is negative, which shows that blood pressure has nothing to do with diabeties. "
   ]
  },
  {
   "cell_type": "markdown",
   "metadata": {},
   "source": [
    "#### Evaluation/Performance Matrices"
   ]
  },
  {
   "cell_type": "markdown",
   "metadata": {},
   "source": [
    "#### Logistic Regression Before SMOTE:"
   ]
  },
  {
   "cell_type": "code",
   "execution_count": 267,
   "metadata": {},
   "outputs": [
    {
     "data": {
      "text/plain": [
       "LogisticRegression()"
      ]
     },
     "execution_count": 267,
     "metadata": {},
     "output_type": "execute_result"
    }
   ],
   "source": [
    "from sklearn.linear_model import LogisticRegression\n",
    "from sklearn import metrics\n",
    "\n",
    "logreg = LogisticRegression()\n",
    "\n",
    "#split data into 70:30 ratio\n",
    "X_train, X_test, y_train, y_test = train_test_split(X, y, test_size=0.3, random_state=0)\n",
    "\n",
    "# train the model\n",
    "logreg.fit(X_train, y_train.ravel())"
   ]
  },
  {
   "cell_type": "code",
   "execution_count": 249,
   "metadata": {},
   "outputs": [
    {
     "name": "stdout",
     "output_type": "stream",
     "text": [
      "Accuracy of logistic regression classifier on test set: 0.76\n"
     ]
    }
   ],
   "source": [
    "# prediction \n",
    "y_pred = logreg.predict(X_test)\n",
    "print('Accuracy of logistic regression classifier on test set: {:.2f}'.format(logreg.score(X_test, y_test)))"
   ]
  },
  {
   "cell_type": "code",
   "execution_count": 250,
   "metadata": {},
   "outputs": [
    {
     "name": "stdout",
     "output_type": "stream",
     "text": [
      "[[139  18]\n",
      " [ 37  37]]\n"
     ]
    }
   ],
   "source": [
    "from sklearn.metrics import confusion_matrix\n",
    "\n",
    "confusion_matrix = confusion_matrix(y_test, y_pred)\n",
    "print(confusion_matrix)"
   ]
  },
  {
   "cell_type": "markdown",
   "metadata": {},
   "source": [
    "We have correct prediction (true positive + true negative) 139+37=176, and incorrect or false predictions (false positive + false negative) 18+37 = 55."
   ]
  },
  {
   "cell_type": "code",
   "execution_count": 251,
   "metadata": {},
   "outputs": [
    {
     "name": "stdout",
     "output_type": "stream",
     "text": [
      "              precision    recall  f1-score   support\n",
      "\n",
      "         0.0       0.79      0.89      0.83       157\n",
      "         1.0       0.67      0.50      0.57        74\n",
      "\n",
      "    accuracy                           0.76       231\n",
      "   macro avg       0.73      0.69      0.70       231\n",
      "weighted avg       0.75      0.76      0.75       231\n",
      "\n"
     ]
    }
   ],
   "source": [
    "# precission, recall, f1-score & support with accuracy values classification report\n",
    "\n",
    "from sklearn.metrics import classification_report\n",
    "print(classification_report(y_test, y_pred))"
   ]
  },
  {
   "cell_type": "markdown",
   "metadata": {},
   "source": [
    "Using the python library, we generate the above table values of precission, recall. f1-score and accuracy. Considering the entire test set, in current model 76% of the data can be explained."
   ]
  },
  {
   "cell_type": "markdown",
   "metadata": {},
   "source": [
    "#### Imbalanced Data\n",
    "\n",
    "The data that we have is highly imbalanced, which can be observed by the following bar graph. The rati of distribution of the data set is 1 over 2. \n",
    "\n",
    "In the case of imbalanced data, our traditional approach of classification which we just calculated above is not very useful. "
   ]
  },
  {
   "cell_type": "code",
   "execution_count": 217,
   "metadata": {},
   "outputs": [
    {
     "data": {
      "image/png": "[encoded data removed]",
      "text/plain": [
       "<Figure size 432x288 with 1 Axes>"
      ]
     },
     "metadata": {
      "needs_background": "light"
     },
     "output_type": "display_data"
    }
   ],
   "source": [
    "%matplotlib inline\n",
    "\n",
    "bplt = train_df['Outcome'].value_counts().plot.bar(title = \"Freq Dist of Outcome\")\n",
    "bplt;"
   ]
  },
  {
   "cell_type": "markdown",
   "metadata": {},
   "source": [
    "Since the data is imbalanced, we have to apply SMOTE algorithm in an attempt to balance the data. "
   ]
  },
  {
   "cell_type": "code",
   "execution_count": 264,
   "metadata": {},
   "outputs": [
    {
     "name": "stdout",
     "output_type": "stream",
     "text": [
      "Before OverSampling, counts of label '1': 194\n",
      "Before OverSampling, counts of label '0': 343 \n",
      "\n",
      "After OverSampling, the shape of train_X: (686, 9)\n",
      "After OverSampling, the shape of train_y: (686,) \n",
      "\n",
      "After OverSampling, counts of label '1': 343\n",
      "After OverSampling, counts of label '0': 343\n"
     ]
    }
   ],
   "source": [
    "\n",
    "print(\"Before OverSampling, counts of label '1': {}\".format(sum(y_train == 1)))\n",
    "print(\"Before OverSampling, counts of label '0': {} \\n\".format(sum(y_train == 0)))\n",
    "\n",
    "from imblearn.over_sampling import SMOTE\n",
    "\n",
    "\n",
    "sm = SMOTE(random_state = 2)\n",
    "X_train_res, y_train_res = sm.fit_sample(X_train, y_train.ravel())\n",
    "  \n",
    "  \n",
    "print('After OverSampling, the shape of train_X: {}'.format(X_train_res.shape))\n",
    "print('After OverSampling, the shape of train_y: {} \\n'.format(y_train_res.shape))\n",
    "  \n",
    "print(\"After OverSampling, counts of label '1': {}\".format(sum(y_train_res == 1)))\n",
    "print(\"After OverSampling, counts of label '0': {}\".format(sum(y_train_res == 0)))"
   ]
  },
  {
   "cell_type": "markdown",
   "metadata": {},
   "source": [
    "We can see that the algorithm has balanced the number of yes and no. "
   ]
  },
  {
   "cell_type": "markdown",
   "metadata": {},
   "source": [
    "#### Logistic Regression After SMOTE:"
   ]
  },
  {
   "cell_type": "code",
   "execution_count": 265,
   "metadata": {},
   "outputs": [
    {
     "data": {
      "text/plain": [
       "0.7734375"
      ]
     },
     "execution_count": 265,
     "metadata": {},
     "output_type": "execute_result"
    }
   ],
   "source": [
    "# logistic regression (code from professor)\n",
    "\n",
    "y_train_res, X_train_res = dmatrices('Outcome ~ Pregnancies + Glucose + BloodPressure + SkinThickness + Insulin + BMI + DiabetesPedigreeFunction + Age', train_df, return_type=\"dataframe\")\n",
    "y_train_res = np.ravel(y_train_res)\n",
    "\n",
    "#ignore warnings\n",
    "np.warnings.filterwarnings('ignore')\n",
    "\n",
    "# instantiate a logistic regression model, and fit with X and y\n",
    "model = LogisticRegression()\n",
    "model = model.fit(X_train_res, y_train_res)\n",
    "\n",
    "# check the accuracy on the training set\n",
    "model.score(X_train_res, y_train_res)"
   ]
  },
  {
   "cell_type": "markdown",
   "metadata": {},
   "source": [
    "Our new model has not change any score even after the SMOTE. "
   ]
  },
  {
   "cell_type": "markdown",
   "metadata": {},
   "source": [
    "New evaluation matrices with the new SMOTE dats. "
   ]
  },
  {
   "cell_type": "code",
   "execution_count": 254,
   "metadata": {},
   "outputs": [
    {
     "name": "stdout",
     "output_type": "stream",
     "text": [
      "              precision    recall  f1-score   support\n",
      "\n",
      "         0.0       0.86      0.78      0.82       157\n",
      "         1.0       0.61      0.73      0.67        74\n",
      "\n",
      "    accuracy                           0.77       231\n",
      "   macro avg       0.74      0.76      0.74       231\n",
      "weighted avg       0.78      0.77      0.77       231\n",
      "\n"
     ]
    }
   ],
   "source": [
    "#Precision and Recall\n",
    "\n",
    "logreg1 = LogisticRegression()\n",
    "\n",
    "logreg1.fit(X_train_res, y_train_res.ravel())\n",
    "predictions = logreg1.predict(X_test)\n",
    "\n",
    "# print classification report\n",
    "print(classification_report(y_test, predictions))\n"
   ]
  },
  {
   "cell_type": "markdown",
   "metadata": {},
   "source": [
    "New accuracy is 77%. Which is not a great improvement, but certainly a small improvement. Precission has increased to 86%. "
   ]
  },
  {
   "cell_type": "markdown",
   "metadata": {},
   "source": [
    "#### ROC curve:"
   ]
  },
  {
   "cell_type": "code",
   "execution_count": 293,
   "metadata": {},
   "outputs": [
    {
     "data": {
      "image/png": "[encoded data removed]",
      "text/plain": [
       "<Figure size 648x432 with 1 Axes>"
      ]
     },
     "metadata": {
      "needs_background": "light"
     },
     "output_type": "display_data"
    }
   ],
   "source": [
    "from sklearn.metrics import roc_auc_score\n",
    "from sklearn.metrics import roc_curve\n",
    "\n",
    "logit_roc_auc = roc_auc_score(y_test, logreg.predict(X_test))\n",
    "fpr, tpr, thresholds = roc_curve(y_test, logreg.predict_proba(X_test)[:,1])\n",
    "\n",
    "plt.figure(figsize=(9,6))\n",
    "plt.plot(fpr, tpr, label='Logistic Regression (area = %0.2f)' % logit_roc_auc)\n",
    "plt.plot([0, 1], [0, 1],'r--')\n",
    "plt.xlim([0.0, 1.00])\n",
    "plt.ylim([0.0, 1.05])\n",
    "\n",
    "plt.xlabel('False Positive Rate')\n",
    "plt.ylabel('True Positive Rate')\n",
    "plt.title('Receiver operating characteristic')\n",
    "plt.legend(loc=\"lower right\")\n",
    "plt.savefig('Log_ROC')\n",
    "plt.show()"
   ]
  },
  {
   "cell_type": "markdown",
   "metadata": {},
   "source": [
    "This model looks alright with the predicting power of 74%. This predicting power is a a little weak. This model is that convencing. "
   ]
  },
  {
   "cell_type": "markdown",
   "metadata": {},
   "source": [
    "#### Chi-Square\n",
    "\n",
    "Chi-Square shows us the assemble of the importance of our variables."
   ]
  },
  {
   "cell_type": "code",
   "execution_count": 297,
   "metadata": {},
   "outputs": [
    {
     "data": {
      "text/plain": [
       "[[(507.30088589263414, 0.599303541425772), 6],\n",
       " [(239.44945230961298, 0.6055947545465781), 5],\n",
       " [(188.81183828305024, 0.4084898472900405), 4],\n",
       " [(148.98313772061886, 0.17785634501690417), 1],\n",
       " [(53.91088776284986, 0.32720630282162655), 3],\n",
       " [(52.02022351005954, 0.433955143789547), 7],\n",
       " [(36.25537055496166, 0.8206281799315805), 2],\n",
       " [(15.349745577641182, 0.49918714178401535), 0]]"
      ]
     },
     "execution_count": 297,
     "metadata": {},
     "output_type": "execute_result"
    }
   ],
   "source": [
    "#import stats module to perform chi-square\n",
    "from scipy import stats\n",
    "\n",
    "#perform chi-square test\n",
    "target=train_df['Outcome'].reset_index(drop=True).copy()\n",
    "chi_sq=[]\n",
    "for i in range(0,8):\n",
    "    chi_sq.append([stats.chi2_contingency(pd.crosstab(target, train_df.iloc[:,i]))[0:2],i])\n",
    "#chi_sq\n",
    "chi_sq.sort(reverse=True)\n",
    "chi_sq"
   ]
  },
  {
   "cell_type": "markdown",
   "metadata": {},
   "source": [
    "This chi-square value is not of much significance to us, because the assumption is that the chi-square value greater than 0.05 is accepted and less than 0.05 is reject hypothesis. However, in the above data, all the values are greater than 0.05. So, chi-value is not very significant to us in this matter."
   ]
  },
  {
   "cell_type": "markdown",
   "metadata": {},
   "source": [
    "#### P-value"
   ]
  },
  {
   "cell_type": "code",
   "execution_count": 294,
   "metadata": {},
   "outputs": [],
   "source": [
    "X=X_train_res\n",
    "y=y_train_res"
   ]
  },
  {
   "cell_type": "code",
   "execution_count": 295,
   "metadata": {},
   "outputs": [
    {
     "name": "stdout",
     "output_type": "stream",
     "text": [
      "Optimization terminated successfully.\n",
      "         Current function value: 0.462394\n",
      "         Iterations 6\n",
      "                              Results: Logit\n",
      "==========================================================================\n",
      "Model:                 Logit               Pseudo R-squared:    0.285     \n",
      "Dependent Variable:    y                   AIC:                 728.2370  \n",
      "Date:                  2022-06-24 22:01    BIC:                 770.0311  \n",
      "No. Observations:      768                 Log-Likelihood:      -355.12   \n",
      "Df Model:              8                   LL-Null:             -496.74   \n",
      "Df Residuals:          759                 LLR p-value:         1.5073e-56\n",
      "Converged:             1.0000              Scale:               1.0000    \n",
      "No. Iterations:        6.0000                                             \n",
      "--------------------------------------------------------------------------\n",
      "                          Coef.  Std.Err.    z     P>|z|   [0.025   0.975]\n",
      "--------------------------------------------------------------------------\n",
      "Intercept                -9.1922   0.8180 -11.2368 0.0000 -10.7956 -7.5889\n",
      "Pregnancies               0.1237   0.0324   3.8168 0.0001   0.0602  0.1873\n",
      "Glucose                   0.0385   0.0039   9.8888 0.0000   0.0309  0.0462\n",
      "BloodPressure            -0.0107   0.0087  -1.2387 0.2155  -0.0277  0.0062\n",
      "SkinThickness            -0.0031   0.0068  -0.4506 0.6523  -0.0165  0.0103\n",
      "Insulin                  -0.0014   0.0009  -1.5006 0.1335  -0.0032  0.0004\n",
      "BMI                       0.1013   0.0165   6.1240 0.0000   0.0689  0.1337\n",
      "DiabetesPedigreeFunction  0.9401   0.3014   3.1189 0.0018   0.3493  1.5309\n",
      "Age                       0.0116   0.0095   1.2200 0.2225  -0.0070  0.0302\n",
      "==========================================================================\n",
      "\n"
     ]
    }
   ],
   "source": [
    "import statsmodels.api as sm\n",
    "logit_model=sm.Logit(y,X)\n",
    "result=logit_model.fit()\n",
    "print(result.summary2())"
   ]
  },
  {
   "cell_type": "markdown",
   "metadata": {},
   "source": [
    "The p-value higher than 0.05 is dropped in theory, so if were to further analyze the data, we would drop the features BloodPressure which has p-value 0.2155, SkinThickness which has p-value 0.6523, Insuline with p-value 0.1335 and Age with p-value 0.2225. "
   ]
  },
  {
   "cell_type": "code",
   "execution_count": 150,
   "metadata": {},
   "outputs": [],
   "source": [
    "import statsmodels.api as sm\n",
    "from sklearn.model_selection import train_test_split\n",
    "from sklearn.linear_model import LinearRegression\n",
    "\n",
    "X = new_df.drop(\"Outcome\",1)   #Feature Matrix\n",
    "y = new_df[\"Outcome\"]            #Target Variable"
   ]
  },
  {
   "cell_type": "code",
   "execution_count": 151,
   "metadata": {},
   "outputs": [
    {
     "data": {
      "text/html": [
       "<div>\n",
       "<style scoped>\n",
       "    .dataframe tbody tr th:only-of-type {\n",
       "        vertical-align: middle;\n",
       "    }\n",
       "\n",
       "    .dataframe tbody tr th {\n",
       "        vertical-align: top;\n",
       "    }\n",
       "\n",
       "    .dataframe thead th {\n",
       "        text-align: right;\n",
       "    }\n",
       "</style>\n",
       "<table border=\"1\" class=\"dataframe\">\n",
       "  <thead>\n",
       "    <tr style=\"text-align: right;\">\n",
       "      <th></th>\n",
       "      <th>Pregnancies</th>\n",
       "      <th>Glucose</th>\n",
       "      <th>BloodPressure</th>\n",
       "      <th>BMI</th>\n",
       "      <th>DiabetesPedigreeFunction</th>\n",
       "    </tr>\n",
       "  </thead>\n",
       "  <tbody>\n",
       "    <tr>\n",
       "      <th>1</th>\n",
       "      <td>6</td>\n",
       "      <td>148</td>\n",
       "      <td>72</td>\n",
       "      <td>33.6</td>\n",
       "      <td>0.627</td>\n",
       "    </tr>\n",
       "    <tr>\n",
       "      <th>2</th>\n",
       "      <td>1</td>\n",
       "      <td>85</td>\n",
       "      <td>66</td>\n",
       "      <td>26.6</td>\n",
       "      <td>0.351</td>\n",
       "    </tr>\n",
       "    <tr>\n",
       "      <th>3</th>\n",
       "      <td>8</td>\n",
       "      <td>183</td>\n",
       "      <td>64</td>\n",
       "      <td>23.3</td>\n",
       "      <td>0.672</td>\n",
       "    </tr>\n",
       "    <tr>\n",
       "      <th>4</th>\n",
       "      <td>1</td>\n",
       "      <td>89</td>\n",
       "      <td>66</td>\n",
       "      <td>28.1</td>\n",
       "      <td>0.167</td>\n",
       "    </tr>\n",
       "    <tr>\n",
       "      <th>5</th>\n",
       "      <td>0</td>\n",
       "      <td>137</td>\n",
       "      <td>40</td>\n",
       "      <td>43.1</td>\n",
       "      <td>2.288</td>\n",
       "    </tr>\n",
       "  </tbody>\n",
       "</table>\n",
       "</div>"
      ],
      "text/plain": [
       "   Pregnancies  Glucose  BloodPressure   BMI  DiabetesPedigreeFunction\n",
       "1            6      148             72  33.6                     0.627\n",
       "2            1       85             66  26.6                     0.351\n",
       "3            8      183             64  23.3                     0.672\n",
       "4            1       89             66  28.1                     0.167\n",
       "5            0      137             40  43.1                     2.288"
      ]
     },
     "execution_count": 151,
     "metadata": {},
     "output_type": "execute_result"
    }
   ],
   "source": [
    "#Backward Elimination\n",
    "cols = list(X.columns)\n",
    "pmax = 1\n",
    "while (len(cols)>0):\n",
    "    p= []\n",
    "    X_1 = X[cols]\n",
    "    X_1 = sm.add_constant(X_1)\n",
    "    model = sm.OLS(y,X_1).fit()\n",
    "    p = pd.Series(model.pvalues.values[1:],index = cols)      \n",
    "    pmax = max(p)\n",
    "    feature_with_p_max = p.idxmax()\n",
    "    if(pmax>0.05):\n",
    "        cols.remove(feature_with_p_max)\n",
    "    else:\n",
    "        break\n",
    "be_df = cols\n",
    "be_df = df[be_df]\n",
    "be_df.head()"
   ]
  },
  {
   "cell_type": "markdown",
   "metadata": {},
   "source": [
    "Backwards elimination predicts the dropping of the table almost like the p-value analysis."
   ]
  },
  {
   "cell_type": "markdown",
   "metadata": {},
   "source": [
    "### Creating Next Model: "
   ]
  },
  {
   "cell_type": "markdown",
   "metadata": {},
   "source": [
    "#### KNN Model\n",
    "\n",
    "\"KNN is a non-parametric method used for classification and regression.  The output is a class membership and is carried out by a vote.  That is, we assign an unknown value the same value as its k nearest neighbors. The name pretty much says it all. We note that normalizing the data can improve the training data.  A common idea to engage a more intelligent scheme than just voting, is to assign weights, for instance, one may use 1/d with d being the distance in terms of the weights applied to assign a value. There are also many different distance metrics that can be used. Effectively it is just taking L-p space and choosing an appropriate p.\" from professors notes."
   ]
  },
  {
   "cell_type": "code",
   "execution_count": 312,
   "metadata": {},
   "outputs": [],
   "source": [
    "# make a copy of data frame\n",
    "test_df = new_df.copy()\n",
    "\n",
    "#create a dataframe with all training data except the target column\n",
    "X = test_df.drop(columns=['Outcome'])"
   ]
  },
  {
   "cell_type": "code",
   "execution_count": 313,
   "metadata": {},
   "outputs": [
    {
     "data": {
      "text/plain": [
       "array([1, 0, 1, 0, 1], dtype=int64)"
      ]
     },
     "execution_count": 313,
     "metadata": {},
     "output_type": "execute_result"
    }
   ],
   "source": [
    "#separate target values\n",
    "y = test_df['Outcome'].values\n",
    "\n",
    "#view target values\n",
    "y[0:5]"
   ]
  },
  {
   "cell_type": "code",
   "execution_count": 314,
   "metadata": {},
   "outputs": [],
   "source": [
    "# splitting data set\n",
    "\n",
    "X_train, X_test, y_train, y_test = train_test_split(X, y, test_size=0.3, random_state=1, stratify=y)"
   ]
  },
  {
   "cell_type": "markdown",
   "metadata": {},
   "source": [
    "Because there are 5 important variables, as we saw in the previous section, we will generate values for 5 neighbours only. "
   ]
  },
  {
   "cell_type": "code",
   "execution_count": 315,
   "metadata": {},
   "outputs": [
    {
     "data": {
      "text/plain": [
       "KNeighborsClassifier()"
      ]
     },
     "execution_count": 315,
     "metadata": {},
     "output_type": "execute_result"
    }
   ],
   "source": [
    "from sklearn.neighbors import KNeighborsClassifier\n",
    "\n",
    "# Create KNN classifier\n",
    "knn = KNeighborsClassifier(n_neighbors = 5)\n",
    "\n",
    "# Fit the classifier to the data\n",
    "knn.fit(X_train,y_train)"
   ]
  },
  {
   "cell_type": "code",
   "execution_count": 317,
   "metadata": {},
   "outputs": [
    {
     "name": "stdout",
     "output_type": "stream",
     "text": [
      "[0 1 1 0 0 1 1 1 1 0 0 1 0 0 0 0 0 0 1 0 0 0 1 1 1 1 1 0 0 1 0 1 0 0 0 0 1\n",
      " 0 1 0 0 1 0 1 0 0 1 1 1 0 1 0 1 1 0 1 0 0 0 0 1 1 0 1 1 0 0 1 0 1 0 0 1 0\n",
      " 1 0 0 0 0 0 0 0 0 0 0 0 1 0 0 0 0 0 0 1 1 0 0 1 0 0 1 0 1 0 0 0 0 0 0 0 0\n",
      " 0 0 0 0 0 1 1 0 0 1 1 1 1 1 1 0 0 0 0 0 0 0 1 1 1 0 0 0 0 0 0 0 0 0 1 0 0\n",
      " 0 1 1 0 1 0 0 1 0 1 0 0 0 0 0 1 0 0 0 1 0 0 0 0 0 1 1 0 1 0 1 0 0 0 1 1 0\n",
      " 0 1 0 0 0 0 1 0 0 0 0 0 1 1 1 0 0 1 0 1 1 0 1 0 0 1 1 0 0 1 1 0 1 0 0 0 0\n",
      " 1 1 0 1 1 0 1 0 0]\n"
     ]
    }
   ],
   "source": [
    "print(knn.predict(X_test))"
   ]
  },
  {
   "cell_type": "markdown",
   "metadata": {},
   "source": [
    "The model predicts diabetes from position starting with the first women through the last one."
   ]
  },
  {
   "cell_type": "code",
   "execution_count": 318,
   "metadata": {},
   "outputs": [
    {
     "data": {
      "text/plain": [
       "0.7186147186147186"
      ]
     },
     "execution_count": 318,
     "metadata": {},
     "output_type": "execute_result"
    }
   ],
   "source": [
    "#check accuracy of our model on the test data\n",
    "\n",
    "knn.score(X_test, y_test)"
   ]
  },
  {
   "cell_type": "markdown",
   "metadata": {},
   "source": [
    "#### Compare\n",
    "\n",
    "The accuracy of our KNN model is 71.86%, which is a little less than our logistic regression model. Logistic regression model had 74% accuracy."
   ]
  },
  {
   "cell_type": "markdown",
   "metadata": {},
   "source": [
    "#### Summary:\n",
    "\n",
    "We started with our EDA analysis, where we discovered that our data was highly imbalanced. I used bar plot, box plot, correlation and scatterplot to find out the imbalance on data as well as found outliers. I replaced median values to replace some of the missing values where there were very few number of missing data. \n",
    "\n",
    "I ignored the attributes Insulin and SkinThickness which had more than 25% of the missing data. The logic behind that was that, it was too many missing values to replace with any other values and that could mislead our entire dataset. Another reason to ignore was because these attributes was that after some study on this domain, these two attributes didn't impact much on diabetes result. \n",
    "\n",
    "At the end of the EDA we could not say much about which variable impacted the most on diabetes result. We further continued with our logestic regression model. Created and tested testing and training data and calculated the score which was 77%. \n",
    "\n",
    "We also calculated logistic regression, which gave the accuracy of 0.76%. \n",
    "\n",
    "Now that our target data set was imbalanced which we saw using barplot, we used SMOTE technique to try to bring down the imbalance. We again calculated the logistic regression, but there was not any improvement. I assume, there is no improvement because the imbalance was not that bad, or it had to do something with the way I handled outliers. I would definitely try to go back and change my strategy on outliers, and see if that would make any difference if I wasn't bounded by the time. \n",
    "\n",
    "Next, we saw the classification report with precission, recall, f1-score and accuracy scores. These values were slightly different before and after SMOTE however I didn't witness any major change in stats. \n",
    "\n",
    "ROC curve was somewhat realistic, however the predicting power wasn't very robust. We calculated chi-score and p-value which showed us which variables were more importand among others. \n",
    "\n",
    "At last we developed another model called \"KNN Model\". This model had even less accuracy in predicting if an individual women had diabeties or not. We printed out the sample prediction of the test data. "
   ]
  },
  {
   "cell_type": "markdown",
   "metadata": {},
   "source": [
    "References: \n",
    "\n",
    "Notes from professor\n",
    "\n",
    "Udemy videos on \"Data Science With Python\"\n",
    "\n",
    "https://www.mayoclinic.org/tests-procedures/glucose-tolerance-test/about/pac-20394296#:~:text=A%20normal%20fasting%20blood%20glucose,(8.6%20mmol%2FL).\n",
    "\n",
    "\n",
    "https://medical-dictionary.thefreedictionary.com/triceps+skin-fold+thickness#:~:text=A%20value%20used%20to%20estimate,%3B%20in%20females%2C%2023%20mm.\n",
    "\n",
    "\n",
    "https://www.scientificamerican.com/article/world-s-obese-population-hits-641-million/"
   ]
  }
 ],
 "metadata": {
  "kernelspec": {
   "display_name": "Python 3.9.12 ('base')",
   "language": "python",
   "name": "python3"
  },
  "language_info": {
   "codemirror_mode": {
    "name": "ipython",
    "version": 3
   },
   "file_extension": ".py",
   "mimetype": "text/x-python",
   "name": "python",
   "nbconvert_exporter": "python",
   "pygments_lexer": "ipython3",
   "version": "3.9.12"
  },
  "orig_nbformat": 4,
  "vscode": {
   "interpreter": {
    "hash": "f08154012ddadd8e950e6e9e035c7a7b32c136e7647e9b7c77e02eb723a8bedb"
   }
  }
 },
 "nbformat": 4,
 "nbformat_minor": 2
}
